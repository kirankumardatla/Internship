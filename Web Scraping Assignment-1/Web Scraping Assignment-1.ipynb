{
 "cells": [
  {
   "cell_type": "markdown",
   "id": "15e8e029-486c-477e-a3de-6a27c958ac7c",
   "metadata": {},
   "source": [
    "# 1) Write a python program to display all the header tags from wikipedia.org and make data frame."
   ]
  },
  {
   "cell_type": "markdown",
   "id": "322a0d2a-8fae-4843-8a3c-e11e6eefb0f3",
   "metadata": {},
   "source": [
    "#### Solution"
   ]
  },
  {
   "cell_type": "code",
   "execution_count": 1,
   "id": "ee960cc8-a4cd-475d-bb82-24cd467b4a4b",
   "metadata": {
    "tags": []
   },
   "outputs": [],
   "source": [
    "# Importing required libraries\n",
    "import requests\n",
    "from bs4 import BeautifulSoup\n",
    "import pandas as pd\n",
    "\n",
    "import warnings\n",
    "warnings.filterwarnings('ignore')"
   ]
  },
  {
   "cell_type": "code",
   "execution_count": 2,
   "id": "fcd292d9-eb0d-466e-b994-976c0344d0c5",
   "metadata": {
    "tags": []
   },
   "outputs": [
    {
     "data": {
      "text/plain": [
       "<Response [200]>"
      ]
     },
     "execution_count": 2,
     "metadata": {},
     "output_type": "execute_result"
    }
   ],
   "source": [
    "# Sending a GET request to the Wikipedia URL\n",
    "page = requests.get('https://en.wikipedia.org/wiki/Main_Page')\n",
    "page"
   ]
  },
  {
   "cell_type": "code",
   "execution_count": 3,
   "id": "a85e6a41-d478-4da6-8531-dee4ecdf5ef5",
   "metadata": {
    "tags": []
   },
   "outputs": [],
   "source": [
    "# using BeautifulSoup \n",
    "soup = BeautifulSoup(page.content)"
   ]
  },
  {
   "cell_type": "code",
   "execution_count": 4,
   "id": "631254a4-9399-4285-998f-5a016b8c38ec",
   "metadata": {
    "tags": []
   },
   "outputs": [],
   "source": [
    "#Creating a empty Data frame for storing Data\n",
    "df = pd.DataFrame(data=None,columns=['Header Tags','Text Data'])"
   ]
  },
  {
   "cell_type": "code",
   "execution_count": 5,
   "id": "f8794d5b-07c0-46c6-8233-1295f7fb9de0",
   "metadata": {
    "tags": []
   },
   "outputs": [],
   "source": [
    "# Finding all header tags and storing the tag name and text in Data Frame\n",
    "for i in ['h1','h2','h3','h4','h5','h6']:\n",
    "    data=soup.find_all(i)\n",
    "    if len(data) !=0:\n",
    "        for k in range(len(data)):\n",
    "            df=df.append({'Header Tags':data[k].name,'Text Data':data[k].text},ignore_index=True)\n",
    "    \n"
   ]
  },
  {
   "cell_type": "code",
   "execution_count": 6,
   "id": "4611cc86-03ed-4e88-baa6-746a13d4eee2",
   "metadata": {
    "tags": []
   },
   "outputs": [
    {
     "data": {
      "text/html": [
       "<div>\n",
       "<style scoped>\n",
       "    .dataframe tbody tr th:only-of-type {\n",
       "        vertical-align: middle;\n",
       "    }\n",
       "\n",
       "    .dataframe tbody tr th {\n",
       "        vertical-align: top;\n",
       "    }\n",
       "\n",
       "    .dataframe thead th {\n",
       "        text-align: right;\n",
       "    }\n",
       "</style>\n",
       "<table border=\"1\" class=\"dataframe\">\n",
       "  <thead>\n",
       "    <tr style=\"text-align: right;\">\n",
       "      <th></th>\n",
       "      <th>Header Tags</th>\n",
       "      <th>Text Data</th>\n",
       "    </tr>\n",
       "  </thead>\n",
       "  <tbody>\n",
       "    <tr>\n",
       "      <th>0</th>\n",
       "      <td>h1</td>\n",
       "      <td>Main Page</td>\n",
       "    </tr>\n",
       "    <tr>\n",
       "      <th>1</th>\n",
       "      <td>h1</td>\n",
       "      <td>Welcome to Wikipedia</td>\n",
       "    </tr>\n",
       "    <tr>\n",
       "      <th>2</th>\n",
       "      <td>h2</td>\n",
       "      <td>From today's featured article</td>\n",
       "    </tr>\n",
       "    <tr>\n",
       "      <th>3</th>\n",
       "      <td>h2</td>\n",
       "      <td>Did you know ...</td>\n",
       "    </tr>\n",
       "    <tr>\n",
       "      <th>4</th>\n",
       "      <td>h2</td>\n",
       "      <td>In the news</td>\n",
       "    </tr>\n",
       "    <tr>\n",
       "      <th>5</th>\n",
       "      <td>h2</td>\n",
       "      <td>On this day</td>\n",
       "    </tr>\n",
       "    <tr>\n",
       "      <th>6</th>\n",
       "      <td>h2</td>\n",
       "      <td>Today's featured picture</td>\n",
       "    </tr>\n",
       "    <tr>\n",
       "      <th>7</th>\n",
       "      <td>h2</td>\n",
       "      <td>Other areas of Wikipedia</td>\n",
       "    </tr>\n",
       "    <tr>\n",
       "      <th>8</th>\n",
       "      <td>h2</td>\n",
       "      <td>Wikipedia's sister projects</td>\n",
       "    </tr>\n",
       "    <tr>\n",
       "      <th>9</th>\n",
       "      <td>h2</td>\n",
       "      <td>Wikipedia languages</td>\n",
       "    </tr>\n",
       "  </tbody>\n",
       "</table>\n",
       "</div>"
      ],
      "text/plain": [
       "  Header Tags                      Text Data\n",
       "0          h1                      Main Page\n",
       "1          h1           Welcome to Wikipedia\n",
       "2          h2  From today's featured article\n",
       "3          h2               Did you know ...\n",
       "4          h2                    In the news\n",
       "5          h2                    On this day\n",
       "6          h2       Today's featured picture\n",
       "7          h2       Other areas of Wikipedia\n",
       "8          h2    Wikipedia's sister projects\n",
       "9          h2            Wikipedia languages"
      ]
     },
     "execution_count": 6,
     "metadata": {},
     "output_type": "execute_result"
    }
   ],
   "source": [
    "# The Required Data Frame\n",
    "df "
   ]
  },
  {
   "cell_type": "markdown",
   "id": "4f8b18db-e200-4e4b-93f3-37330efa12c0",
   "metadata": {},
   "source": [
    "# 2) Write a python program to display IMDB’s Top rated 50 movies’ data (i.e. name, rating, year of release) and make data frame.\n"
   ]
  },
  {
   "cell_type": "markdown",
   "id": "6945c7ea-179b-4df9-8c7f-249c0e61763f",
   "metadata": {},
   "source": [
    "#### Solution"
   ]
  },
  {
   "cell_type": "code",
   "execution_count": 7,
   "id": "4b8f8035-374d-49b6-9742-349d95c59e42",
   "metadata": {
    "tags": []
   },
   "outputs": [],
   "source": [
    "# Importing required libraries\n",
    "import requests\n",
    "from bs4 import BeautifulSoup\n",
    "import pandas as pd\n",
    "\n",
    "import warnings\n",
    "warnings.filterwarnings('ignore')"
   ]
  },
  {
   "cell_type": "code",
   "execution_count": 8,
   "id": "d2d161eb-fe0f-4d7d-a17c-f3ae185887fe",
   "metadata": {
    "tags": []
   },
   "outputs": [
    {
     "data": {
      "text/plain": [
       "<Response [200]>"
      ]
     },
     "execution_count": 8,
     "metadata": {},
     "output_type": "execute_result"
    }
   ],
   "source": [
    "# Sending a GET request\n",
    "page = requests.get('https://www.imdb.com/chart/top/')\n",
    "page"
   ]
  },
  {
   "cell_type": "code",
   "execution_count": 9,
   "id": "2f4cd6ce-a96a-4931-a80e-c39d8b77f8ae",
   "metadata": {
    "tags": []
   },
   "outputs": [],
   "source": [
    "# using BeautifulSoup \n",
    "soup = BeautifulSoup(page.content)"
   ]
  },
  {
   "cell_type": "code",
   "execution_count": 10,
   "id": "fdd123dc-4470-47dd-8861-70ca9a47739e",
   "metadata": {
    "tags": []
   },
   "outputs": [],
   "source": [
    "# Creating empty lists for storing data\n",
    "name= []\n",
    "rating= []\n",
    "yor= []"
   ]
  },
  {
   "cell_type": "code",
   "execution_count": 11,
   "id": "71851a68-59f9-4196-bb4b-729461f5d7b6",
   "metadata": {
    "tags": []
   },
   "outputs": [],
   "source": [
    "# getting rating column\n",
    "data=soup.find_all('td',class_=\"ratingColumn imdbRating\")\n",
    "for i in range(50):\n",
    "    text=data[i].text[1:4]\n",
    "    rating.append(text)\n",
    "\n",
    "# getting titile and year data\n",
    "data=soup.find_all('td',class_=\"titleColumn\")\n",
    "for i in range(50):\n",
    "    title_text = data[i].text.split('\\n')[2]\n",
    "    year_text = data[i].text.split('\\n')[3][1:5]\n",
    "    name.append(title_text)\n",
    "    yor.append(year_text)\n",
    "    "
   ]
  },
  {
   "cell_type": "code",
   "execution_count": 12,
   "id": "a90bdbe3-6786-4905-bf9c-f78dfba47dbc",
   "metadata": {
    "tags": []
   },
   "outputs": [],
   "source": [
    "#Creating Data Frame\n",
    "df1 = pd.DataFrame({'Movie Name':name,'Year of Release':yor,'Imdb Rating':rating}) "
   ]
  },
  {
   "cell_type": "code",
   "execution_count": 13,
   "id": "e4aee9e7-4ff8-4515-b032-2c26ac97d34b",
   "metadata": {
    "tags": []
   },
   "outputs": [
    {
     "data": {
      "text/html": [
       "<div>\n",
       "<style scoped>\n",
       "    .dataframe tbody tr th:only-of-type {\n",
       "        vertical-align: middle;\n",
       "    }\n",
       "\n",
       "    .dataframe tbody tr th {\n",
       "        vertical-align: top;\n",
       "    }\n",
       "\n",
       "    .dataframe thead th {\n",
       "        text-align: right;\n",
       "    }\n",
       "</style>\n",
       "<table border=\"1\" class=\"dataframe\">\n",
       "  <thead>\n",
       "    <tr style=\"text-align: right;\">\n",
       "      <th></th>\n",
       "      <th>Movie Name</th>\n",
       "      <th>Year of Release</th>\n",
       "      <th>Imdb Rating</th>\n",
       "    </tr>\n",
       "  </thead>\n",
       "  <tbody>\n",
       "    <tr>\n",
       "      <th>0</th>\n",
       "      <td>The Shawshank Redemption</td>\n",
       "      <td>1994</td>\n",
       "      <td>9.2</td>\n",
       "    </tr>\n",
       "    <tr>\n",
       "      <th>1</th>\n",
       "      <td>The Godfather</td>\n",
       "      <td>1972</td>\n",
       "      <td>9.2</td>\n",
       "    </tr>\n",
       "    <tr>\n",
       "      <th>2</th>\n",
       "      <td>The Dark Knight</td>\n",
       "      <td>2008</td>\n",
       "      <td>9.0</td>\n",
       "    </tr>\n",
       "    <tr>\n",
       "      <th>3</th>\n",
       "      <td>The Godfather Part II</td>\n",
       "      <td>1974</td>\n",
       "      <td>9.0</td>\n",
       "    </tr>\n",
       "    <tr>\n",
       "      <th>4</th>\n",
       "      <td>12 Angry Men</td>\n",
       "      <td>1957</td>\n",
       "      <td>9.0</td>\n",
       "    </tr>\n",
       "    <tr>\n",
       "      <th>5</th>\n",
       "      <td>Schindler's List</td>\n",
       "      <td>1993</td>\n",
       "      <td>8.9</td>\n",
       "    </tr>\n",
       "    <tr>\n",
       "      <th>6</th>\n",
       "      <td>The Lord of the Rings: The Return of the...</td>\n",
       "      <td>2003</td>\n",
       "      <td>8.9</td>\n",
       "    </tr>\n",
       "    <tr>\n",
       "      <th>7</th>\n",
       "      <td>Pulp Fiction</td>\n",
       "      <td>1994</td>\n",
       "      <td>8.8</td>\n",
       "    </tr>\n",
       "    <tr>\n",
       "      <th>8</th>\n",
       "      <td>The Lord of the Rings: The Fellowship of...</td>\n",
       "      <td>2001</td>\n",
       "      <td>8.8</td>\n",
       "    </tr>\n",
       "    <tr>\n",
       "      <th>9</th>\n",
       "      <td>Il buono, il brutto, il cattivo</td>\n",
       "      <td>1966</td>\n",
       "      <td>8.8</td>\n",
       "    </tr>\n",
       "    <tr>\n",
       "      <th>10</th>\n",
       "      <td>Forrest Gump</td>\n",
       "      <td>1994</td>\n",
       "      <td>8.8</td>\n",
       "    </tr>\n",
       "    <tr>\n",
       "      <th>11</th>\n",
       "      <td>Fight Club</td>\n",
       "      <td>1999</td>\n",
       "      <td>8.7</td>\n",
       "    </tr>\n",
       "    <tr>\n",
       "      <th>12</th>\n",
       "      <td>The Lord of the Rings: The Two Towers</td>\n",
       "      <td>2002</td>\n",
       "      <td>8.7</td>\n",
       "    </tr>\n",
       "    <tr>\n",
       "      <th>13</th>\n",
       "      <td>Inception</td>\n",
       "      <td>2010</td>\n",
       "      <td>8.7</td>\n",
       "    </tr>\n",
       "    <tr>\n",
       "      <th>14</th>\n",
       "      <td>The Empire Strikes Back</td>\n",
       "      <td>1980</td>\n",
       "      <td>8.7</td>\n",
       "    </tr>\n",
       "    <tr>\n",
       "      <th>15</th>\n",
       "      <td>The Matrix</td>\n",
       "      <td>1999</td>\n",
       "      <td>8.7</td>\n",
       "    </tr>\n",
       "    <tr>\n",
       "      <th>16</th>\n",
       "      <td>GoodFellas</td>\n",
       "      <td>1990</td>\n",
       "      <td>8.7</td>\n",
       "    </tr>\n",
       "    <tr>\n",
       "      <th>17</th>\n",
       "      <td>One Flew Over the Cuckoo's Nest</td>\n",
       "      <td>1975</td>\n",
       "      <td>8.6</td>\n",
       "    </tr>\n",
       "    <tr>\n",
       "      <th>18</th>\n",
       "      <td>Se7en</td>\n",
       "      <td>1995</td>\n",
       "      <td>8.6</td>\n",
       "    </tr>\n",
       "    <tr>\n",
       "      <th>19</th>\n",
       "      <td>It's a Wonderful Life</td>\n",
       "      <td>1946</td>\n",
       "      <td>8.6</td>\n",
       "    </tr>\n",
       "    <tr>\n",
       "      <th>20</th>\n",
       "      <td>Shichinin no samurai</td>\n",
       "      <td>1954</td>\n",
       "      <td>8.6</td>\n",
       "    </tr>\n",
       "    <tr>\n",
       "      <th>21</th>\n",
       "      <td>The Silence of the Lambs</td>\n",
       "      <td>1991</td>\n",
       "      <td>8.6</td>\n",
       "    </tr>\n",
       "    <tr>\n",
       "      <th>22</th>\n",
       "      <td>Saving Private Ryan</td>\n",
       "      <td>1998</td>\n",
       "      <td>8.6</td>\n",
       "    </tr>\n",
       "    <tr>\n",
       "      <th>23</th>\n",
       "      <td>Cidade de Deus</td>\n",
       "      <td>2002</td>\n",
       "      <td>8.6</td>\n",
       "    </tr>\n",
       "    <tr>\n",
       "      <th>24</th>\n",
       "      <td>Interstellar</td>\n",
       "      <td>2014</td>\n",
       "      <td>8.6</td>\n",
       "    </tr>\n",
       "    <tr>\n",
       "      <th>25</th>\n",
       "      <td>La vita è bella</td>\n",
       "      <td>1997</td>\n",
       "      <td>8.6</td>\n",
       "    </tr>\n",
       "    <tr>\n",
       "      <th>26</th>\n",
       "      <td>The Green Mile</td>\n",
       "      <td>1999</td>\n",
       "      <td>8.6</td>\n",
       "    </tr>\n",
       "    <tr>\n",
       "      <th>27</th>\n",
       "      <td>Star Wars</td>\n",
       "      <td>1977</td>\n",
       "      <td>8.5</td>\n",
       "    </tr>\n",
       "    <tr>\n",
       "      <th>28</th>\n",
       "      <td>Terminator 2: Judgment Day</td>\n",
       "      <td>1991</td>\n",
       "      <td>8.5</td>\n",
       "    </tr>\n",
       "    <tr>\n",
       "      <th>29</th>\n",
       "      <td>Back to the Future</td>\n",
       "      <td>1985</td>\n",
       "      <td>8.5</td>\n",
       "    </tr>\n",
       "    <tr>\n",
       "      <th>30</th>\n",
       "      <td>Sen to Chihiro no kamikakushi</td>\n",
       "      <td>2001</td>\n",
       "      <td>8.5</td>\n",
       "    </tr>\n",
       "    <tr>\n",
       "      <th>31</th>\n",
       "      <td>The Pianist</td>\n",
       "      <td>2002</td>\n",
       "      <td>8.5</td>\n",
       "    </tr>\n",
       "    <tr>\n",
       "      <th>32</th>\n",
       "      <td>Psycho</td>\n",
       "      <td>1960</td>\n",
       "      <td>8.5</td>\n",
       "    </tr>\n",
       "    <tr>\n",
       "      <th>33</th>\n",
       "      <td>Gisaengchung</td>\n",
       "      <td>2019</td>\n",
       "      <td>8.5</td>\n",
       "    </tr>\n",
       "    <tr>\n",
       "      <th>34</th>\n",
       "      <td>Léon</td>\n",
       "      <td>1994</td>\n",
       "      <td>8.5</td>\n",
       "    </tr>\n",
       "    <tr>\n",
       "      <th>35</th>\n",
       "      <td>The Lion King</td>\n",
       "      <td>1994</td>\n",
       "      <td>8.5</td>\n",
       "    </tr>\n",
       "    <tr>\n",
       "      <th>36</th>\n",
       "      <td>Gladiator</td>\n",
       "      <td>2000</td>\n",
       "      <td>8.5</td>\n",
       "    </tr>\n",
       "    <tr>\n",
       "      <th>37</th>\n",
       "      <td>American History X</td>\n",
       "      <td>1998</td>\n",
       "      <td>8.5</td>\n",
       "    </tr>\n",
       "    <tr>\n",
       "      <th>38</th>\n",
       "      <td>The Departed</td>\n",
       "      <td>2006</td>\n",
       "      <td>8.5</td>\n",
       "    </tr>\n",
       "    <tr>\n",
       "      <th>39</th>\n",
       "      <td>Whiplash</td>\n",
       "      <td>2014</td>\n",
       "      <td>8.5</td>\n",
       "    </tr>\n",
       "    <tr>\n",
       "      <th>40</th>\n",
       "      <td>The Prestige</td>\n",
       "      <td>2006</td>\n",
       "      <td>8.5</td>\n",
       "    </tr>\n",
       "    <tr>\n",
       "      <th>41</th>\n",
       "      <td>The Usual Suspects</td>\n",
       "      <td>1995</td>\n",
       "      <td>8.5</td>\n",
       "    </tr>\n",
       "    <tr>\n",
       "      <th>42</th>\n",
       "      <td>Casablanca</td>\n",
       "      <td>1942</td>\n",
       "      <td>8.5</td>\n",
       "    </tr>\n",
       "    <tr>\n",
       "      <th>43</th>\n",
       "      <td>Hotaru no haka</td>\n",
       "      <td>1988</td>\n",
       "      <td>8.5</td>\n",
       "    </tr>\n",
       "    <tr>\n",
       "      <th>44</th>\n",
       "      <td>Seppuku</td>\n",
       "      <td>1962</td>\n",
       "      <td>8.5</td>\n",
       "    </tr>\n",
       "    <tr>\n",
       "      <th>45</th>\n",
       "      <td>The Intouchables</td>\n",
       "      <td>2011</td>\n",
       "      <td>8.5</td>\n",
       "    </tr>\n",
       "    <tr>\n",
       "      <th>46</th>\n",
       "      <td>Modern Times</td>\n",
       "      <td>1936</td>\n",
       "      <td>8.4</td>\n",
       "    </tr>\n",
       "    <tr>\n",
       "      <th>47</th>\n",
       "      <td>Once Upon a Time in the West</td>\n",
       "      <td>1968</td>\n",
       "      <td>8.4</td>\n",
       "    </tr>\n",
       "    <tr>\n",
       "      <th>48</th>\n",
       "      <td>Nuovo Cinema Paradiso</td>\n",
       "      <td>1988</td>\n",
       "      <td>8.4</td>\n",
       "    </tr>\n",
       "    <tr>\n",
       "      <th>49</th>\n",
       "      <td>Rear Window</td>\n",
       "      <td>1954</td>\n",
       "      <td>8.4</td>\n",
       "    </tr>\n",
       "  </tbody>\n",
       "</table>\n",
       "</div>"
      ],
      "text/plain": [
       "                                           Movie Name Year of Release  \\\n",
       "0                            The Shawshank Redemption            1994   \n",
       "1                                       The Godfather            1972   \n",
       "2                                     The Dark Knight            2008   \n",
       "3                               The Godfather Part II            1974   \n",
       "4                                        12 Angry Men            1957   \n",
       "5                                    Schindler's List            1993   \n",
       "6         The Lord of the Rings: The Return of the...            2003   \n",
       "7                                        Pulp Fiction            1994   \n",
       "8         The Lord of the Rings: The Fellowship of...            2001   \n",
       "9                     Il buono, il brutto, il cattivo            1966   \n",
       "10                                       Forrest Gump            1994   \n",
       "11                                         Fight Club            1999   \n",
       "12              The Lord of the Rings: The Two Towers            2002   \n",
       "13                                          Inception            2010   \n",
       "14                            The Empire Strikes Back            1980   \n",
       "15                                         The Matrix            1999   \n",
       "16                                         GoodFellas            1990   \n",
       "17                    One Flew Over the Cuckoo's Nest            1975   \n",
       "18                                              Se7en            1995   \n",
       "19                              It's a Wonderful Life            1946   \n",
       "20                               Shichinin no samurai            1954   \n",
       "21                           The Silence of the Lambs            1991   \n",
       "22                                Saving Private Ryan            1998   \n",
       "23                                     Cidade de Deus            2002   \n",
       "24                                       Interstellar            2014   \n",
       "25                                    La vita è bella            1997   \n",
       "26                                     The Green Mile            1999   \n",
       "27                                          Star Wars            1977   \n",
       "28                         Terminator 2: Judgment Day            1991   \n",
       "29                                 Back to the Future            1985   \n",
       "30                      Sen to Chihiro no kamikakushi            2001   \n",
       "31                                        The Pianist            2002   \n",
       "32                                             Psycho            1960   \n",
       "33                                       Gisaengchung            2019   \n",
       "34                                               Léon            1994   \n",
       "35                                      The Lion King            1994   \n",
       "36                                          Gladiator            2000   \n",
       "37                                 American History X            1998   \n",
       "38                                       The Departed            2006   \n",
       "39                                           Whiplash            2014   \n",
       "40                                       The Prestige            2006   \n",
       "41                                 The Usual Suspects            1995   \n",
       "42                                         Casablanca            1942   \n",
       "43                                     Hotaru no haka            1988   \n",
       "44                                            Seppuku            1962   \n",
       "45                                   The Intouchables            2011   \n",
       "46                                       Modern Times            1936   \n",
       "47                       Once Upon a Time in the West            1968   \n",
       "48                              Nuovo Cinema Paradiso            1988   \n",
       "49                                        Rear Window            1954   \n",
       "\n",
       "   Imdb Rating  \n",
       "0          9.2  \n",
       "1          9.2  \n",
       "2          9.0  \n",
       "3          9.0  \n",
       "4          9.0  \n",
       "5          8.9  \n",
       "6          8.9  \n",
       "7          8.8  \n",
       "8          8.8  \n",
       "9          8.8  \n",
       "10         8.8  \n",
       "11         8.7  \n",
       "12         8.7  \n",
       "13         8.7  \n",
       "14         8.7  \n",
       "15         8.7  \n",
       "16         8.7  \n",
       "17         8.6  \n",
       "18         8.6  \n",
       "19         8.6  \n",
       "20         8.6  \n",
       "21         8.6  \n",
       "22         8.6  \n",
       "23         8.6  \n",
       "24         8.6  \n",
       "25         8.6  \n",
       "26         8.6  \n",
       "27         8.5  \n",
       "28         8.5  \n",
       "29         8.5  \n",
       "30         8.5  \n",
       "31         8.5  \n",
       "32         8.5  \n",
       "33         8.5  \n",
       "34         8.5  \n",
       "35         8.5  \n",
       "36         8.5  \n",
       "37         8.5  \n",
       "38         8.5  \n",
       "39         8.5  \n",
       "40         8.5  \n",
       "41         8.5  \n",
       "42         8.5  \n",
       "43         8.5  \n",
       "44         8.5  \n",
       "45         8.5  \n",
       "46         8.4  \n",
       "47         8.4  \n",
       "48         8.4  \n",
       "49         8.4  "
      ]
     },
     "execution_count": 13,
     "metadata": {},
     "output_type": "execute_result"
    }
   ],
   "source": [
    "df1"
   ]
  },
  {
   "cell_type": "code",
   "execution_count": null,
   "id": "492c6909-2c6a-4f55-befe-0fa8ff5f4f6e",
   "metadata": {},
   "outputs": [],
   "source": []
  },
  {
   "cell_type": "markdown",
   "id": "0c0cc8a0-7906-401c-bf16-1e45b6876a6d",
   "metadata": {
    "tags": []
   },
   "source": [
    "# 3) Write a python program to display IMDB’s Top rated 50 Indian movies’ data (i.e. name, rating, year of release) and make data frame."
   ]
  },
  {
   "cell_type": "markdown",
   "id": "0b314f1b-d414-4e49-b81b-376294e1575b",
   "metadata": {},
   "source": [
    "#### SOLUTION"
   ]
  },
  {
   "cell_type": "code",
   "execution_count": 14,
   "id": "50a5351b-15f1-4bb0-9ccc-0d839b4b30c8",
   "metadata": {
    "tags": []
   },
   "outputs": [],
   "source": [
    "# Importing required libraries\n",
    "import requests\n",
    "from bs4 import BeautifulSoup\n",
    "import pandas as pd\n",
    "\n",
    "import warnings\n",
    "warnings.filterwarnings('ignore')"
   ]
  },
  {
   "cell_type": "code",
   "execution_count": 15,
   "id": "743bda95-68da-47d8-a7d5-d084668008d5",
   "metadata": {
    "tags": []
   },
   "outputs": [
    {
     "data": {
      "text/plain": [
       "<Response [200]>"
      ]
     },
     "execution_count": 15,
     "metadata": {},
     "output_type": "execute_result"
    }
   ],
   "source": [
    "# Sending a GET request \n",
    "page = requests.get('https://www.imdb.com/india/top-rated-indian-movies/')\n",
    "page"
   ]
  },
  {
   "cell_type": "code",
   "execution_count": 16,
   "id": "6a54e515-ac68-4fe7-aeb4-b94432821426",
   "metadata": {
    "tags": []
   },
   "outputs": [],
   "source": [
    "# using BeautifulSoup \n",
    "soup = BeautifulSoup(page.content)"
   ]
  },
  {
   "cell_type": "code",
   "execution_count": 17,
   "id": "bdd9106b-b8b6-456c-a415-5ff6e9c094f8",
   "metadata": {
    "tags": []
   },
   "outputs": [],
   "source": [
    "# Creating empty lists for storing data\n",
    "name= []\n",
    "rating= []\n",
    "yor= []"
   ]
  },
  {
   "cell_type": "code",
   "execution_count": 18,
   "id": "1c5b9925-4cc8-4f1e-80b5-9d3ca09bc497",
   "metadata": {
    "tags": []
   },
   "outputs": [],
   "source": [
    "# getting rating column\n",
    "data=soup.find_all('td',class_=\"ratingColumn imdbRating\")\n",
    "for i in range(50):\n",
    "    text=data[i].text[1:4]\n",
    "    rating.append(text)\n",
    "\n",
    "# getting titile and year data\n",
    "data=soup.find_all('td',class_=\"titleColumn\")\n",
    "for i in range(50):\n",
    "    title_text = data[i].text.split('\\n')[2]\n",
    "    year_text = data[i].text.split('\\n')[3][1:5]\n",
    "    name.append(title_text)\n",
    "    yor.append(year_text)\n",
    "    "
   ]
  },
  {
   "cell_type": "code",
   "execution_count": 19,
   "id": "d5d280b3-241d-405b-bf15-ec8ac7609cbb",
   "metadata": {
    "tags": []
   },
   "outputs": [],
   "source": [
    "#Creating Data Frame\n",
    "df2 = pd.DataFrame({'Movie Name':name,'Year of Release':yor,'Imdb Rating':rating}) "
   ]
  },
  {
   "cell_type": "code",
   "execution_count": 20,
   "id": "6608ee62-2c0b-4e97-81e5-46d3c6c193f7",
   "metadata": {
    "tags": []
   },
   "outputs": [
    {
     "data": {
      "text/html": [
       "<div>\n",
       "<style scoped>\n",
       "    .dataframe tbody tr th:only-of-type {\n",
       "        vertical-align: middle;\n",
       "    }\n",
       "\n",
       "    .dataframe tbody tr th {\n",
       "        vertical-align: top;\n",
       "    }\n",
       "\n",
       "    .dataframe thead th {\n",
       "        text-align: right;\n",
       "    }\n",
       "</style>\n",
       "<table border=\"1\" class=\"dataframe\">\n",
       "  <thead>\n",
       "    <tr style=\"text-align: right;\">\n",
       "      <th></th>\n",
       "      <th>Movie Name</th>\n",
       "      <th>Year of Release</th>\n",
       "      <th>Imdb Rating</th>\n",
       "    </tr>\n",
       "  </thead>\n",
       "  <tbody>\n",
       "    <tr>\n",
       "      <th>0</th>\n",
       "      <td>Ramayana: The Legend of Prince Rama</td>\n",
       "      <td>1993</td>\n",
       "      <td>8.6</td>\n",
       "    </tr>\n",
       "    <tr>\n",
       "      <th>1</th>\n",
       "      <td>Rocketry: The Nambi Effect</td>\n",
       "      <td>2022</td>\n",
       "      <td>8.4</td>\n",
       "    </tr>\n",
       "    <tr>\n",
       "      <th>2</th>\n",
       "      <td>Nayakan</td>\n",
       "      <td>1987</td>\n",
       "      <td>8.4</td>\n",
       "    </tr>\n",
       "    <tr>\n",
       "      <th>3</th>\n",
       "      <td>Gol Maal</td>\n",
       "      <td>1979</td>\n",
       "      <td>8.4</td>\n",
       "    </tr>\n",
       "    <tr>\n",
       "      <th>4</th>\n",
       "      <td>777 Charlie</td>\n",
       "      <td>2022</td>\n",
       "      <td>8.4</td>\n",
       "    </tr>\n",
       "    <tr>\n",
       "      <th>5</th>\n",
       "      <td>Anbe Sivam</td>\n",
       "      <td>2003</td>\n",
       "      <td>8.4</td>\n",
       "    </tr>\n",
       "    <tr>\n",
       "      <th>6</th>\n",
       "      <td>Pariyerum Perumal</td>\n",
       "      <td>2018</td>\n",
       "      <td>8.4</td>\n",
       "    </tr>\n",
       "    <tr>\n",
       "      <th>7</th>\n",
       "      <td>Apur Sansar</td>\n",
       "      <td>1959</td>\n",
       "      <td>8.4</td>\n",
       "    </tr>\n",
       "    <tr>\n",
       "      <th>8</th>\n",
       "      <td>3 Idiots</td>\n",
       "      <td>2009</td>\n",
       "      <td>8.4</td>\n",
       "    </tr>\n",
       "    <tr>\n",
       "      <th>9</th>\n",
       "      <td>Jai Bhim</td>\n",
       "      <td>2021</td>\n",
       "      <td>8.3</td>\n",
       "    </tr>\n",
       "    <tr>\n",
       "      <th>10</th>\n",
       "      <td>Manichitrathazhu</td>\n",
       "      <td>1993</td>\n",
       "      <td>8.3</td>\n",
       "    </tr>\n",
       "    <tr>\n",
       "      <th>11</th>\n",
       "      <td>#Home</td>\n",
       "      <td>2021</td>\n",
       "      <td>8.3</td>\n",
       "    </tr>\n",
       "    <tr>\n",
       "      <th>12</th>\n",
       "      <td>Soorarai Pottru</td>\n",
       "      <td>2020</td>\n",
       "      <td>8.3</td>\n",
       "    </tr>\n",
       "    <tr>\n",
       "      <th>13</th>\n",
       "      <td>Black Friday</td>\n",
       "      <td>2004</td>\n",
       "      <td>8.3</td>\n",
       "    </tr>\n",
       "    <tr>\n",
       "      <th>14</th>\n",
       "      <td>Kumbalangi Nights</td>\n",
       "      <td>2019</td>\n",
       "      <td>8.3</td>\n",
       "    </tr>\n",
       "    <tr>\n",
       "      <th>15</th>\n",
       "      <td>C/o Kancharapalem</td>\n",
       "      <td>2018</td>\n",
       "      <td>8.3</td>\n",
       "    </tr>\n",
       "    <tr>\n",
       "      <th>16</th>\n",
       "      <td>Taare Zameen Par</td>\n",
       "      <td>2007</td>\n",
       "      <td>8.3</td>\n",
       "    </tr>\n",
       "    <tr>\n",
       "      <th>17</th>\n",
       "      <td>Kireedam</td>\n",
       "      <td>1989</td>\n",
       "      <td>8.3</td>\n",
       "    </tr>\n",
       "    <tr>\n",
       "      <th>18</th>\n",
       "      <td>Dangal</td>\n",
       "      <td>2016</td>\n",
       "      <td>8.3</td>\n",
       "    </tr>\n",
       "    <tr>\n",
       "      <th>19</th>\n",
       "      <td>Kaithi</td>\n",
       "      <td>2019</td>\n",
       "      <td>8.3</td>\n",
       "    </tr>\n",
       "    <tr>\n",
       "      <th>20</th>\n",
       "      <td>Jersey</td>\n",
       "      <td>2019</td>\n",
       "      <td>8.3</td>\n",
       "    </tr>\n",
       "    <tr>\n",
       "      <th>21</th>\n",
       "      <td>96</td>\n",
       "      <td>2018</td>\n",
       "      <td>8.3</td>\n",
       "    </tr>\n",
       "    <tr>\n",
       "      <th>22</th>\n",
       "      <td>Maya Bazaar</td>\n",
       "      <td>1957</td>\n",
       "      <td>8.2</td>\n",
       "    </tr>\n",
       "    <tr>\n",
       "      <th>23</th>\n",
       "      <td>Natsamrat</td>\n",
       "      <td>2016</td>\n",
       "      <td>8.2</td>\n",
       "    </tr>\n",
       "    <tr>\n",
       "      <th>24</th>\n",
       "      <td>Drishyam 2</td>\n",
       "      <td>2021</td>\n",
       "      <td>8.2</td>\n",
       "    </tr>\n",
       "    <tr>\n",
       "      <th>25</th>\n",
       "      <td>Asuran</td>\n",
       "      <td>2019</td>\n",
       "      <td>8.2</td>\n",
       "    </tr>\n",
       "    <tr>\n",
       "      <th>26</th>\n",
       "      <td>Sita Ramam</td>\n",
       "      <td>2022</td>\n",
       "      <td>8.2</td>\n",
       "    </tr>\n",
       "    <tr>\n",
       "      <th>27</th>\n",
       "      <td>Thevar Magan</td>\n",
       "      <td>1992</td>\n",
       "      <td>8.2</td>\n",
       "    </tr>\n",
       "    <tr>\n",
       "      <th>28</th>\n",
       "      <td>Visaaranai</td>\n",
       "      <td>2015</td>\n",
       "      <td>8.2</td>\n",
       "    </tr>\n",
       "    <tr>\n",
       "      <th>29</th>\n",
       "      <td>Sarpatta Parambarai</td>\n",
       "      <td>2021</td>\n",
       "      <td>8.2</td>\n",
       "    </tr>\n",
       "    <tr>\n",
       "      <th>30</th>\n",
       "      <td>Thalapathi</td>\n",
       "      <td>1991</td>\n",
       "      <td>8.2</td>\n",
       "    </tr>\n",
       "    <tr>\n",
       "      <th>31</th>\n",
       "      <td>Nadodikkattu</td>\n",
       "      <td>1987</td>\n",
       "      <td>8.2</td>\n",
       "    </tr>\n",
       "    <tr>\n",
       "      <th>32</th>\n",
       "      <td>Pather Panchali</td>\n",
       "      <td>1955</td>\n",
       "      <td>8.2</td>\n",
       "    </tr>\n",
       "    <tr>\n",
       "      <th>33</th>\n",
       "      <td>Drishyam</td>\n",
       "      <td>2013</td>\n",
       "      <td>8.2</td>\n",
       "    </tr>\n",
       "    <tr>\n",
       "      <th>34</th>\n",
       "      <td>Thani Oruvan</td>\n",
       "      <td>2015</td>\n",
       "      <td>8.2</td>\n",
       "    </tr>\n",
       "    <tr>\n",
       "      <th>35</th>\n",
       "      <td>Jaane Bhi Do Yaaro</td>\n",
       "      <td>1983</td>\n",
       "      <td>8.2</td>\n",
       "    </tr>\n",
       "    <tr>\n",
       "      <th>36</th>\n",
       "      <td>Vada Chennai</td>\n",
       "      <td>2018</td>\n",
       "      <td>8.2</td>\n",
       "    </tr>\n",
       "    <tr>\n",
       "      <th>37</th>\n",
       "      <td>Aparajito</td>\n",
       "      <td>1956</td>\n",
       "      <td>8.2</td>\n",
       "    </tr>\n",
       "    <tr>\n",
       "      <th>38</th>\n",
       "      <td>Khosla Ka Ghosla!</td>\n",
       "      <td>2006</td>\n",
       "      <td>8.2</td>\n",
       "    </tr>\n",
       "    <tr>\n",
       "      <th>39</th>\n",
       "      <td>Sardar Udham</td>\n",
       "      <td>2021</td>\n",
       "      <td>8.2</td>\n",
       "    </tr>\n",
       "    <tr>\n",
       "      <th>40</th>\n",
       "      <td>Anniyan</td>\n",
       "      <td>2005</td>\n",
       "      <td>8.2</td>\n",
       "    </tr>\n",
       "    <tr>\n",
       "      <th>41</th>\n",
       "      <td>Ratsasan</td>\n",
       "      <td>2018</td>\n",
       "      <td>8.1</td>\n",
       "    </tr>\n",
       "    <tr>\n",
       "      <th>42</th>\n",
       "      <td>Chupke Chupke</td>\n",
       "      <td>1975</td>\n",
       "      <td>8.1</td>\n",
       "    </tr>\n",
       "    <tr>\n",
       "      <th>43</th>\n",
       "      <td>Gangs of Wasseypur</td>\n",
       "      <td>2012</td>\n",
       "      <td>8.1</td>\n",
       "    </tr>\n",
       "    <tr>\n",
       "      <th>44</th>\n",
       "      <td>Drishyam</td>\n",
       "      <td>2015</td>\n",
       "      <td>8.1</td>\n",
       "    </tr>\n",
       "    <tr>\n",
       "      <th>45</th>\n",
       "      <td>Mahanati</td>\n",
       "      <td>2018</td>\n",
       "      <td>8.1</td>\n",
       "    </tr>\n",
       "    <tr>\n",
       "      <th>46</th>\n",
       "      <td>Peranbu</td>\n",
       "      <td>2018</td>\n",
       "      <td>8.1</td>\n",
       "    </tr>\n",
       "    <tr>\n",
       "      <th>47</th>\n",
       "      <td>Bangalore Days</td>\n",
       "      <td>2014</td>\n",
       "      <td>8.1</td>\n",
       "    </tr>\n",
       "    <tr>\n",
       "      <th>48</th>\n",
       "      <td>Premam</td>\n",
       "      <td>2015</td>\n",
       "      <td>8.1</td>\n",
       "    </tr>\n",
       "    <tr>\n",
       "      <th>49</th>\n",
       "      <td>Satya</td>\n",
       "      <td>1998</td>\n",
       "      <td>8.1</td>\n",
       "    </tr>\n",
       "  </tbody>\n",
       "</table>\n",
       "</div>"
      ],
      "text/plain": [
       "                                   Movie Name Year of Release Imdb Rating\n",
       "0         Ramayana: The Legend of Prince Rama            1993         8.6\n",
       "1                  Rocketry: The Nambi Effect            2022         8.4\n",
       "2                                     Nayakan            1987         8.4\n",
       "3                                    Gol Maal            1979         8.4\n",
       "4                                 777 Charlie            2022         8.4\n",
       "5                                  Anbe Sivam            2003         8.4\n",
       "6                           Pariyerum Perumal            2018         8.4\n",
       "7                                 Apur Sansar            1959         8.4\n",
       "8                                    3 Idiots            2009         8.4\n",
       "9                                    Jai Bhim            2021         8.3\n",
       "10                           Manichitrathazhu            1993         8.3\n",
       "11                                      #Home            2021         8.3\n",
       "12                            Soorarai Pottru            2020         8.3\n",
       "13                               Black Friday            2004         8.3\n",
       "14                          Kumbalangi Nights            2019         8.3\n",
       "15                          C/o Kancharapalem            2018         8.3\n",
       "16                           Taare Zameen Par            2007         8.3\n",
       "17                                   Kireedam            1989         8.3\n",
       "18                                     Dangal            2016         8.3\n",
       "19                                     Kaithi            2019         8.3\n",
       "20                                     Jersey            2019         8.3\n",
       "21                                         96            2018         8.3\n",
       "22                                Maya Bazaar            1957         8.2\n",
       "23                                  Natsamrat            2016         8.2\n",
       "24                                 Drishyam 2            2021         8.2\n",
       "25                                     Asuran            2019         8.2\n",
       "26                                 Sita Ramam            2022         8.2\n",
       "27                               Thevar Magan            1992         8.2\n",
       "28                                 Visaaranai            2015         8.2\n",
       "29                        Sarpatta Parambarai            2021         8.2\n",
       "30                                 Thalapathi            1991         8.2\n",
       "31                               Nadodikkattu            1987         8.2\n",
       "32                            Pather Panchali            1955         8.2\n",
       "33                                   Drishyam            2013         8.2\n",
       "34                               Thani Oruvan            2015         8.2\n",
       "35                         Jaane Bhi Do Yaaro            1983         8.2\n",
       "36                               Vada Chennai            2018         8.2\n",
       "37                                  Aparajito            1956         8.2\n",
       "38                          Khosla Ka Ghosla!            2006         8.2\n",
       "39                               Sardar Udham            2021         8.2\n",
       "40                                    Anniyan            2005         8.2\n",
       "41                                   Ratsasan            2018         8.1\n",
       "42                              Chupke Chupke            1975         8.1\n",
       "43                         Gangs of Wasseypur            2012         8.1\n",
       "44                                   Drishyam            2015         8.1\n",
       "45                                   Mahanati            2018         8.1\n",
       "46                                    Peranbu            2018         8.1\n",
       "47                             Bangalore Days            2014         8.1\n",
       "48                                     Premam            2015         8.1\n",
       "49                                      Satya            1998         8.1"
      ]
     },
     "execution_count": 20,
     "metadata": {},
     "output_type": "execute_result"
    }
   ],
   "source": [
    "df2"
   ]
  },
  {
   "cell_type": "code",
   "execution_count": null,
   "id": "2a078d34-047f-4abd-ade1-8358fbb3eabf",
   "metadata": {},
   "outputs": [],
   "source": []
  },
  {
   "cell_type": "markdown",
   "id": "d4495209-5498-43cc-b3b6-a5b8bbf30bea",
   "metadata": {
    "tags": []
   },
   "source": [
    "### 4) Write s python program to display list of respected former presidents of India(i.e. Name , Term ofoffice) from https://presidentofindia.nic.in/former-presidents.htm and make data frame."
   ]
  },
  {
   "cell_type": "markdown",
   "id": "95862a81-01e9-4f7b-a668-b8c01ef9e4b3",
   "metadata": {},
   "source": [
    "##### Solution"
   ]
  },
  {
   "cell_type": "code",
   "execution_count": 21,
   "id": "9d2821a4-c215-4c00-9f4b-05388d8eb401",
   "metadata": {
    "tags": []
   },
   "outputs": [],
   "source": [
    "# Importing required libraries\n",
    "import requests\n",
    "from bs4 import BeautifulSoup\n",
    "import pandas as pd\n",
    "\n",
    "import warnings\n",
    "warnings.filterwarnings('ignore')"
   ]
  },
  {
   "cell_type": "code",
   "execution_count": 22,
   "id": "e13117ae-18b6-4b0b-944f-956c898f6d37",
   "metadata": {
    "tags": []
   },
   "outputs": [
    {
     "data": {
      "text/plain": [
       "<Response [200]>"
      ]
     },
     "execution_count": 22,
     "metadata": {},
     "output_type": "execute_result"
    }
   ],
   "source": [
    "# Sending a GET request \n",
    "page = requests.get('https://presidentofindia.nic.in/former-presidents.htm')\n",
    "page"
   ]
  },
  {
   "cell_type": "code",
   "execution_count": 23,
   "id": "2687668c-4e15-4f2f-b8d9-827cc51e3bdc",
   "metadata": {
    "tags": []
   },
   "outputs": [],
   "source": [
    "# using BeautifulSoup \n",
    "soup = BeautifulSoup(page.content)"
   ]
  },
  {
   "cell_type": "code",
   "execution_count": 24,
   "id": "f479bff9-2719-4747-9ee7-062726f6b77d",
   "metadata": {
    "tags": []
   },
   "outputs": [],
   "source": [
    "# Creating empty lists for storing data\n",
    "name = []\n",
    "Term = []"
   ]
  },
  {
   "cell_type": "code",
   "execution_count": 25,
   "id": "e62db5b9-9157-4a73-b194-723f67d0e394",
   "metadata": {
    "tags": []
   },
   "outputs": [],
   "source": [
    "data=soup.find_all('div',class_=\"presidentListing\")\n",
    "for i in range(len(data)):\n",
    "    name.append(data[i].text.split('\\n')[1].split(\"(\")[0][:-1])\n",
    "    Term.append(data[i].text.split('\\n')[2][16:])"
   ]
  },
  {
   "cell_type": "code",
   "execution_count": 26,
   "id": "ed997771-bea5-484c-a331-28eba723cc5e",
   "metadata": {
    "tags": []
   },
   "outputs": [
    {
     "name": "stdout",
     "output_type": "stream",
     "text": [
      "14 14\n"
     ]
    }
   ],
   "source": [
    "print(len(name),len(Term))"
   ]
  },
  {
   "cell_type": "code",
   "execution_count": 27,
   "id": "7d3ac1f3-7a91-4b81-9184-13dbf8df832b",
   "metadata": {
    "tags": []
   },
   "outputs": [
    {
     "data": {
      "text/html": [
       "<div>\n",
       "<style scoped>\n",
       "    .dataframe tbody tr th:only-of-type {\n",
       "        vertical-align: middle;\n",
       "    }\n",
       "\n",
       "    .dataframe tbody tr th {\n",
       "        vertical-align: top;\n",
       "    }\n",
       "\n",
       "    .dataframe thead th {\n",
       "        text-align: right;\n",
       "    }\n",
       "</style>\n",
       "<table border=\"1\" class=\"dataframe\">\n",
       "  <thead>\n",
       "    <tr style=\"text-align: right;\">\n",
       "      <th></th>\n",
       "      <th>Name</th>\n",
       "      <th>Term of office</th>\n",
       "    </tr>\n",
       "  </thead>\n",
       "  <tbody>\n",
       "    <tr>\n",
       "      <th>0</th>\n",
       "      <td>Shri Ram Nath Kovind</td>\n",
       "      <td>25 July, 2017 to 25 July, 2022</td>\n",
       "    </tr>\n",
       "    <tr>\n",
       "      <th>1</th>\n",
       "      <td>Shri Pranab Mukherjee</td>\n",
       "      <td>25 July, 2012 to 25 July, 2017</td>\n",
       "    </tr>\n",
       "    <tr>\n",
       "      <th>2</th>\n",
       "      <td>Smt Pratibha Devisingh Patil</td>\n",
       "      <td>25 July, 2007 to 25 July, 2012</td>\n",
       "    </tr>\n",
       "    <tr>\n",
       "      <th>3</th>\n",
       "      <td>DR. A.P.J. Abdul Kalam</td>\n",
       "      <td>25 July, 2002 to 25 July, 2007</td>\n",
       "    </tr>\n",
       "    <tr>\n",
       "      <th>4</th>\n",
       "      <td>Shri K. R. Narayanan</td>\n",
       "      <td>25 July, 1997 to 25 July, 2002</td>\n",
       "    </tr>\n",
       "    <tr>\n",
       "      <th>5</th>\n",
       "      <td>Dr Shankar Dayal Sharma</td>\n",
       "      <td>25 July, 1992 to 25 July, 1997</td>\n",
       "    </tr>\n",
       "    <tr>\n",
       "      <th>6</th>\n",
       "      <td>Shri R Venkataraman</td>\n",
       "      <td>25 July, 1987 to 25 July, 1992</td>\n",
       "    </tr>\n",
       "    <tr>\n",
       "      <th>7</th>\n",
       "      <td>Giani Zail Singh</td>\n",
       "      <td>25 July, 1982 to 25 July, 1987</td>\n",
       "    </tr>\n",
       "    <tr>\n",
       "      <th>8</th>\n",
       "      <td>Shri Neelam Sanjiva Reddy</td>\n",
       "      <td>25 July, 1977 to 25 July, 1982</td>\n",
       "    </tr>\n",
       "    <tr>\n",
       "      <th>9</th>\n",
       "      <td>Dr. Fakhruddin Ali Ahmed</td>\n",
       "      <td>24 August, 1974 to 11 February, 1977</td>\n",
       "    </tr>\n",
       "    <tr>\n",
       "      <th>10</th>\n",
       "      <td>Shri Varahagiri Venkata Giri</td>\n",
       "      <td>3 May, 1969 to 20 July, 1969 and 24 August, 19...</td>\n",
       "    </tr>\n",
       "    <tr>\n",
       "      <th>11</th>\n",
       "      <td>Dr. Zakir Husain</td>\n",
       "      <td>13 May, 1967 to 3 May, 1969</td>\n",
       "    </tr>\n",
       "    <tr>\n",
       "      <th>12</th>\n",
       "      <td>Dr. Sarvepalli Radhakrishnan</td>\n",
       "      <td>13 May, 1962 to 13 May, 1967</td>\n",
       "    </tr>\n",
       "    <tr>\n",
       "      <th>13</th>\n",
       "      <td>Dr. Rajendra Prasad</td>\n",
       "      <td>26 January, 1950 to 13 May, 1962</td>\n",
       "    </tr>\n",
       "  </tbody>\n",
       "</table>\n",
       "</div>"
      ],
      "text/plain": [
       "                            Name  \\\n",
       "0           Shri Ram Nath Kovind   \n",
       "1          Shri Pranab Mukherjee   \n",
       "2   Smt Pratibha Devisingh Patil   \n",
       "3         DR. A.P.J. Abdul Kalam   \n",
       "4           Shri K. R. Narayanan   \n",
       "5        Dr Shankar Dayal Sharma   \n",
       "6            Shri R Venkataraman   \n",
       "7               Giani Zail Singh   \n",
       "8      Shri Neelam Sanjiva Reddy   \n",
       "9       Dr. Fakhruddin Ali Ahmed   \n",
       "10  Shri Varahagiri Venkata Giri   \n",
       "11              Dr. Zakir Husain   \n",
       "12  Dr. Sarvepalli Radhakrishnan   \n",
       "13           Dr. Rajendra Prasad   \n",
       "\n",
       "                                       Term of office  \n",
       "0                     25 July, 2017 to 25 July, 2022   \n",
       "1                     25 July, 2012 to 25 July, 2017   \n",
       "2                     25 July, 2007 to 25 July, 2012   \n",
       "3                     25 July, 2002 to 25 July, 2007   \n",
       "4                     25 July, 1997 to 25 July, 2002   \n",
       "5                     25 July, 1992 to 25 July, 1997   \n",
       "6                     25 July, 1987 to 25 July, 1992   \n",
       "7                     25 July, 1982 to 25 July, 1987   \n",
       "8                     25 July, 1977 to 25 July, 1982   \n",
       "9                24 August, 1974 to 11 February, 1977  \n",
       "10  3 May, 1969 to 20 July, 1969 and 24 August, 19...  \n",
       "11                        13 May, 1967 to 3 May, 1969  \n",
       "12                       13 May, 1962 to 13 May, 1967  \n",
       "13                   26 January, 1950 to 13 May, 1962  "
      ]
     },
     "execution_count": 27,
     "metadata": {},
     "output_type": "execute_result"
    }
   ],
   "source": [
    "#Creating Data Frame\n",
    "df3 = pd.DataFrame({'Name':name,'Term of office':Term,})\n",
    "df3"
   ]
  },
  {
   "cell_type": "code",
   "execution_count": null,
   "id": "a241976f-b01c-41ce-ba88-1d55637f4dcf",
   "metadata": {},
   "outputs": [],
   "source": []
  },
  {
   "cell_type": "markdown",
   "id": "509ebfa8-4926-44cd-9185-534525c21a7b",
   "metadata": {
    "tags": []
   },
   "source": [
    "### 5) Write a python program to scrape cricket rankings from icc-cricket.com. You have to scrape and make data frame\n",
    "1. Top 10 ODI teams in men’s cricket along with the records for matches, points and rating.\n",
    "2. Top 10 ODI Batsmen along with the records of their team andrating.\n",
    "3. Top 10 ODI bowlers along with the records of their team andrating."
   ]
  },
  {
   "cell_type": "markdown",
   "id": "7f62a9a1-59fd-4889-8fb1-9c1ff9363598",
   "metadata": {},
   "source": [
    "#### A) Top 10 ODI teams in men’s cricket along with the records for matches, points and rating."
   ]
  },
  {
   "cell_type": "markdown",
   "id": "ed2a040b-6b83-4092-8838-c99d5b217938",
   "metadata": {},
   "source": [
    "##### Solution "
   ]
  },
  {
   "cell_type": "code",
   "execution_count": 28,
   "id": "49bc0872-52ac-48e5-b792-58dab8c8a93e",
   "metadata": {
    "tags": []
   },
   "outputs": [],
   "source": [
    "# Importing required libraries\n",
    "import requests\n",
    "from bs4 import BeautifulSoup\n",
    "import pandas as pd\n",
    "\n",
    "import warnings\n",
    "warnings.filterwarnings('ignore')"
   ]
  },
  {
   "cell_type": "code",
   "execution_count": 29,
   "id": "d8f42dd1-e94d-46ff-a2cc-9a512dc594eb",
   "metadata": {
    "tags": []
   },
   "outputs": [
    {
     "data": {
      "text/plain": [
       "<Response [200]>"
      ]
     },
     "execution_count": 29,
     "metadata": {},
     "output_type": "execute_result"
    }
   ],
   "source": [
    "# Sending a GET request \n",
    "page = requests.get('https://www.icc-cricket.com/rankings/mens/team-rankings/odi')\n",
    "page"
   ]
  },
  {
   "cell_type": "code",
   "execution_count": 30,
   "id": "578a9f94-1bcb-4ea5-aa29-d94f5fdf7cc6",
   "metadata": {
    "tags": []
   },
   "outputs": [],
   "source": [
    "# using BeautifulSoup \n",
    "soup = BeautifulSoup(page.content)"
   ]
  },
  {
   "cell_type": "code",
   "execution_count": 31,
   "id": "890cbf6e-88bd-409b-917d-0d23804526b5",
   "metadata": {
    "tags": []
   },
   "outputs": [],
   "source": [
    "# Creating empty lists for storing data\n",
    "name = []\n",
    "matches = []\n",
    "points = []\n",
    "rating = []"
   ]
  },
  {
   "cell_type": "code",
   "execution_count": 32,
   "id": "3bdf2f37-5545-4af5-a9be-66ecb146de25",
   "metadata": {
    "tags": []
   },
   "outputs": [],
   "source": [
    "# getting name data\n",
    "data=soup.find_all('span',class_=\"u-show-phablet\")\n",
    "for i in range(10):\n",
    "    name.append(data[i].text)"
   ]
  },
  {
   "cell_type": "code",
   "execution_count": 33,
   "id": "107216c3-b336-4e35-ba73-8e4de174dd3c",
   "metadata": {
    "tags": []
   },
   "outputs": [],
   "source": [
    "# getting 1st team details\n",
    "data=soup.find('td',class_=\"rankings-block__banner--matches\")\n",
    "matches.append(data.text)\n",
    "data=soup.find('td',class_=\"rankings-block__banner--points\")\n",
    "points.append(data.text)\n",
    "data=soup.find('td',class_=\"rankings-block__banner--rating u-text-right\")\n",
    "rating.append(data.text.split(\"\\n\")[1][-5:])\n"
   ]
  },
  {
   "cell_type": "code",
   "execution_count": 34,
   "id": "a57430c4-fb40-4cec-a250-536a7da9796b",
   "metadata": {
    "tags": []
   },
   "outputs": [],
   "source": [
    "#getting remaining 9 teams data\n",
    "data=soup.find_all('td',class_=\"table-body__cell u-center-text\")\n",
    "for i in range(0,18,2):\n",
    "    matches.append(data[i].text)\n",
    "for i in range(1,19,2):\n",
    "    points.append(data[i].text)\n",
    "data = soup.find_all('td',class_=\"table-body__cell u-text-right rating\")\n",
    "for i in range(9):\n",
    "    rating.append(data[i].text)"
   ]
  },
  {
   "cell_type": "code",
   "execution_count": 35,
   "id": "01bc1c3b-1e3d-4f5a-aebd-7be5eb0fc714",
   "metadata": {
    "tags": []
   },
   "outputs": [
    {
     "name": "stdout",
     "output_type": "stream",
     "text": [
      "10 10 10 10\n"
     ]
    }
   ],
   "source": [
    "print(len(name),len(matches),len(points),len(rating))"
   ]
  },
  {
   "cell_type": "code",
   "execution_count": 36,
   "id": "1703b4d1-db2e-4b9a-9287-b01393849478",
   "metadata": {
    "tags": []
   },
   "outputs": [
    {
     "data": {
      "text/html": [
       "<div>\n",
       "<style scoped>\n",
       "    .dataframe tbody tr th:only-of-type {\n",
       "        vertical-align: middle;\n",
       "    }\n",
       "\n",
       "    .dataframe tbody tr th {\n",
       "        vertical-align: top;\n",
       "    }\n",
       "\n",
       "    .dataframe thead th {\n",
       "        text-align: right;\n",
       "    }\n",
       "</style>\n",
       "<table border=\"1\" class=\"dataframe\">\n",
       "  <thead>\n",
       "    <tr style=\"text-align: right;\">\n",
       "      <th></th>\n",
       "      <th>Team Name</th>\n",
       "      <th>Matches</th>\n",
       "      <th>Points</th>\n",
       "      <th>Rating</th>\n",
       "    </tr>\n",
       "  </thead>\n",
       "  <tbody>\n",
       "    <tr>\n",
       "      <th>0</th>\n",
       "      <td>AUS</td>\n",
       "      <td>35</td>\n",
       "      <td>3,965</td>\n",
       "      <td>113</td>\n",
       "    </tr>\n",
       "    <tr>\n",
       "      <th>1</th>\n",
       "      <td>NZ</td>\n",
       "      <td>31</td>\n",
       "      <td>3,504</td>\n",
       "      <td>113</td>\n",
       "    </tr>\n",
       "    <tr>\n",
       "      <th>2</th>\n",
       "      <td>IND</td>\n",
       "      <td>47</td>\n",
       "      <td>5,294</td>\n",
       "      <td>113</td>\n",
       "    </tr>\n",
       "    <tr>\n",
       "      <th>3</th>\n",
       "      <td>ENG</td>\n",
       "      <td>36</td>\n",
       "      <td>3,988</td>\n",
       "      <td>111</td>\n",
       "    </tr>\n",
       "    <tr>\n",
       "      <th>4</th>\n",
       "      <td>PAK</td>\n",
       "      <td>25</td>\n",
       "      <td>2,649</td>\n",
       "      <td>106</td>\n",
       "    </tr>\n",
       "    <tr>\n",
       "      <th>5</th>\n",
       "      <td>SA</td>\n",
       "      <td>31</td>\n",
       "      <td>3,141</td>\n",
       "      <td>101</td>\n",
       "    </tr>\n",
       "    <tr>\n",
       "      <th>6</th>\n",
       "      <td>BAN</td>\n",
       "      <td>38</td>\n",
       "      <td>3,625</td>\n",
       "      <td>95</td>\n",
       "    </tr>\n",
       "    <tr>\n",
       "      <th>7</th>\n",
       "      <td>SL</td>\n",
       "      <td>36</td>\n",
       "      <td>3,099</td>\n",
       "      <td>86</td>\n",
       "    </tr>\n",
       "    <tr>\n",
       "      <th>8</th>\n",
       "      <td>WI</td>\n",
       "      <td>43</td>\n",
       "      <td>3,105</td>\n",
       "      <td>72</td>\n",
       "    </tr>\n",
       "    <tr>\n",
       "      <th>9</th>\n",
       "      <td>AFG</td>\n",
       "      <td>20</td>\n",
       "      <td>1,419</td>\n",
       "      <td>71</td>\n",
       "    </tr>\n",
       "  </tbody>\n",
       "</table>\n",
       "</div>"
      ],
      "text/plain": [
       "  Team Name Matches Points Rating\n",
       "0       AUS      35  3,965    113\n",
       "1        NZ      31  3,504    113\n",
       "2       IND      47  5,294    113\n",
       "3       ENG      36  3,988    111\n",
       "4       PAK      25  2,649    106\n",
       "5        SA      31  3,141    101\n",
       "6       BAN      38  3,625     95\n",
       "7        SL      36  3,099     86\n",
       "8        WI      43  3,105     72\n",
       "9       AFG      20  1,419     71"
      ]
     },
     "execution_count": 36,
     "metadata": {},
     "output_type": "execute_result"
    }
   ],
   "source": [
    "#Creating Data Frame\n",
    "df4 = pd.DataFrame({'Team Name':name,'Matches':matches,'Points':points,'Rating':rating})\n",
    "df4"
   ]
  },
  {
   "cell_type": "markdown",
   "id": "f41cc429-9e99-4002-9f02-de1542f65dd2",
   "metadata": {},
   "source": [
    "#### B) Top 10 ODI Batsmen along with the records of their team andrating."
   ]
  },
  {
   "cell_type": "markdown",
   "id": "694eaabb-c36b-4335-a8a7-8bdfa0d84ac0",
   "metadata": {},
   "source": [
    "##### Solution"
   ]
  },
  {
   "cell_type": "code",
   "execution_count": 37,
   "id": "787f8c29-dea3-4d4f-8a96-e648e1225255",
   "metadata": {
    "tags": []
   },
   "outputs": [],
   "source": [
    "# Importing required libraries\n",
    "import requests\n",
    "from bs4 import BeautifulSoup\n",
    "import pandas as pd\n",
    "\n",
    "import warnings\n",
    "warnings.filterwarnings('ignore')\n"
   ]
  },
  {
   "cell_type": "code",
   "execution_count": 38,
   "id": "f316f9dc-aced-407a-bf96-9c180a74f905",
   "metadata": {
    "tags": []
   },
   "outputs": [
    {
     "data": {
      "text/plain": [
       "<Response [200]>"
      ]
     },
     "execution_count": 38,
     "metadata": {},
     "output_type": "execute_result"
    }
   ],
   "source": [
    "# Sending a GET request \n",
    "page = requests.get('https://www.icc-cricket.com/rankings/mens/player-rankings/odi/batting')\n",
    "page"
   ]
  },
  {
   "cell_type": "code",
   "execution_count": 39,
   "id": "4d45e0b1-c246-497c-9ef8-c236c42cb66a",
   "metadata": {
    "tags": []
   },
   "outputs": [],
   "source": [
    "# using BeautifulSoup \n",
    "soup = BeautifulSoup(page.content)"
   ]
  },
  {
   "cell_type": "code",
   "execution_count": 40,
   "id": "955d102d-a57f-4c8f-ab69-25f028354cae",
   "metadata": {
    "tags": []
   },
   "outputs": [],
   "source": [
    "# Creating empty lists for storing data\n",
    "name = []\n",
    "Team = []\n",
    "rating = []"
   ]
  },
  {
   "cell_type": "code",
   "execution_count": 41,
   "id": "51d16a43-0923-452f-87d3-42693e638cae",
   "metadata": {
    "tags": []
   },
   "outputs": [],
   "source": [
    "# getting Top player details\n",
    "data=soup.find('div',class_=\"rankings-block__banner--name-large\")\n",
    "name.append(data.text)\n",
    "data=soup.find('div',class_=\"rankings-block__banner--nationality\")\n",
    "Team.append(data.text.split('\\n')[2])\n",
    "data=soup.find('div',class_=\"rankings-block__banner--rating\")\n",
    "rating.append(data.text)\n"
   ]
  },
  {
   "cell_type": "code",
   "execution_count": 42,
   "id": "9006f075-a42c-44be-843a-8c44e352fdda",
   "metadata": {
    "tags": []
   },
   "outputs": [],
   "source": [
    "#getting remaining 9 teams data\n",
    "data=soup.find_all('td',class_=\"table-body__cell rankings-table__name name\")\n",
    "for i in range(9):\n",
    "    name.append(data[i].text.split('\\n')[1])\n",
    "data = soup.find_all('span',class_=\"table-body__logo-text\")    \n",
    "for i in range(9):\n",
    "    Team.append(data[i].text)\n",
    "data = soup.find_all('td',class_=\"table-body__cell rating\")\n",
    "for i in range(9):\n",
    "    rating.append(data[i].text)"
   ]
  },
  {
   "cell_type": "code",
   "execution_count": 43,
   "id": "3bc6a740-1a3f-4598-a0fe-17dfea287a72",
   "metadata": {
    "tags": []
   },
   "outputs": [
    {
     "name": "stdout",
     "output_type": "stream",
     "text": [
      "10 10 10\n"
     ]
    }
   ],
   "source": [
    "print(len(name),len(Team),len(rating))"
   ]
  },
  {
   "cell_type": "code",
   "execution_count": 44,
   "id": "b3648b0e-9e63-4af1-8f49-105d38ca9f94",
   "metadata": {
    "tags": []
   },
   "outputs": [
    {
     "data": {
      "text/html": [
       "<div>\n",
       "<style scoped>\n",
       "    .dataframe tbody tr th:only-of-type {\n",
       "        vertical-align: middle;\n",
       "    }\n",
       "\n",
       "    .dataframe tbody tr th {\n",
       "        vertical-align: top;\n",
       "    }\n",
       "\n",
       "    .dataframe thead th {\n",
       "        text-align: right;\n",
       "    }\n",
       "</style>\n",
       "<table border=\"1\" class=\"dataframe\">\n",
       "  <thead>\n",
       "    <tr style=\"text-align: right;\">\n",
       "      <th></th>\n",
       "      <th>Player Name</th>\n",
       "      <th>Player Team</th>\n",
       "      <th>Player Rating</th>\n",
       "    </tr>\n",
       "  </thead>\n",
       "  <tbody>\n",
       "    <tr>\n",
       "      <th>0</th>\n",
       "      <td>Babar Azam</td>\n",
       "      <td>PAK</td>\n",
       "      <td>887</td>\n",
       "    </tr>\n",
       "    <tr>\n",
       "      <th>1</th>\n",
       "      <td>Rassie van der Dussen</td>\n",
       "      <td>SA</td>\n",
       "      <td>777</td>\n",
       "    </tr>\n",
       "    <tr>\n",
       "      <th>2</th>\n",
       "      <td>Imam-ul-Haq</td>\n",
       "      <td>PAK</td>\n",
       "      <td>740</td>\n",
       "    </tr>\n",
       "    <tr>\n",
       "      <th>3</th>\n",
       "      <td>Shubman Gill</td>\n",
       "      <td>IND</td>\n",
       "      <td>738</td>\n",
       "    </tr>\n",
       "    <tr>\n",
       "      <th>4</th>\n",
       "      <td>David Warner</td>\n",
       "      <td>AUS</td>\n",
       "      <td>726</td>\n",
       "    </tr>\n",
       "    <tr>\n",
       "      <th>5</th>\n",
       "      <td>Virat Kohli</td>\n",
       "      <td>IND</td>\n",
       "      <td>719</td>\n",
       "    </tr>\n",
       "    <tr>\n",
       "      <th>6</th>\n",
       "      <td>Quinton de Kock</td>\n",
       "      <td>SA</td>\n",
       "      <td>718</td>\n",
       "    </tr>\n",
       "    <tr>\n",
       "      <th>7</th>\n",
       "      <td>Rohit Sharma</td>\n",
       "      <td>IND</td>\n",
       "      <td>707</td>\n",
       "    </tr>\n",
       "    <tr>\n",
       "      <th>8</th>\n",
       "      <td>Steve Smith</td>\n",
       "      <td>AUS</td>\n",
       "      <td>702</td>\n",
       "    </tr>\n",
       "    <tr>\n",
       "      <th>9</th>\n",
       "      <td>Fakhar Zaman</td>\n",
       "      <td>PAK</td>\n",
       "      <td>699</td>\n",
       "    </tr>\n",
       "  </tbody>\n",
       "</table>\n",
       "</div>"
      ],
      "text/plain": [
       "             Player Name Player Team Player Rating\n",
       "0             Babar Azam         PAK           887\n",
       "1  Rassie van der Dussen          SA           777\n",
       "2            Imam-ul-Haq         PAK           740\n",
       "3           Shubman Gill         IND           738\n",
       "4           David Warner         AUS           726\n",
       "5            Virat Kohli         IND           719\n",
       "6        Quinton de Kock          SA           718\n",
       "7           Rohit Sharma         IND           707\n",
       "8            Steve Smith         AUS           702\n",
       "9           Fakhar Zaman         PAK           699"
      ]
     },
     "execution_count": 44,
     "metadata": {},
     "output_type": "execute_result"
    }
   ],
   "source": [
    "#Creating Data Frame\n",
    "df5 = pd.DataFrame({'Player Name':name,'Player Team':Team,'Player Rating':rating})\n",
    "df5"
   ]
  },
  {
   "cell_type": "markdown",
   "id": "229689fa-a0a0-435c-8d24-760c44f290ea",
   "metadata": {},
   "source": [
    "#### C) Top 10 ODI bowlers along with the records of their team andrating."
   ]
  },
  {
   "cell_type": "markdown",
   "id": "4088cb67-3452-4819-b97e-a11aef1fe01d",
   "metadata": {},
   "source": [
    "##### Solution:\n",
    "    "
   ]
  },
  {
   "cell_type": "code",
   "execution_count": 45,
   "id": "6367d7c9-e821-4cc8-81e0-3d5ede5b5656",
   "metadata": {
    "tags": []
   },
   "outputs": [],
   "source": [
    "# Importing required libraries\n",
    "import requests\n",
    "from bs4 import BeautifulSoup\n",
    "import pandas as pd\n",
    "\n",
    "import warnings\n",
    "warnings.filterwarnings('ignore')\n"
   ]
  },
  {
   "cell_type": "code",
   "execution_count": 46,
   "id": "1a062d50-5bcf-41ff-8a3a-9e4a104ea6df",
   "metadata": {
    "tags": []
   },
   "outputs": [
    {
     "data": {
      "text/plain": [
       "<Response [200]>"
      ]
     },
     "execution_count": 46,
     "metadata": {},
     "output_type": "execute_result"
    }
   ],
   "source": [
    "# Sending a GET request \n",
    "page = requests.get('https://www.icc-cricket.com/rankings/mens/player-rankings/odi/bowling')\n",
    "page"
   ]
  },
  {
   "cell_type": "code",
   "execution_count": 47,
   "id": "19d09208-e43b-4a1f-9150-b7a177227ea4",
   "metadata": {
    "tags": []
   },
   "outputs": [],
   "source": [
    "# using BeautifulSoup \n",
    "soup = BeautifulSoup(page.content)"
   ]
  },
  {
   "cell_type": "code",
   "execution_count": 48,
   "id": "02c5e355-e92f-44ec-a90d-33fd37eec70a",
   "metadata": {
    "tags": []
   },
   "outputs": [],
   "source": [
    "# Creating empty lists for storing data\n",
    "name = []\n",
    "Team = []\n",
    "rating = []"
   ]
  },
  {
   "cell_type": "code",
   "execution_count": 49,
   "id": "c9b4dbab-7006-4825-ac9a-198cfa169a46",
   "metadata": {
    "tags": []
   },
   "outputs": [],
   "source": [
    "# getting Top player details\n",
    "data=soup.find('div',class_=\"rankings-block__banner--name-large\")\n",
    "name.append(data.text)\n",
    "data=soup.find('div',class_=\"rankings-block__banner--nationality\")\n",
    "Team.append(data.text.split('\\n')[2])\n",
    "data=soup.find('div',class_=\"rankings-block__banner--rating\")\n",
    "rating.append(data.text)\n"
   ]
  },
  {
   "cell_type": "code",
   "execution_count": 50,
   "id": "f701c3a1-2d3b-4db7-85bc-60659ebb2ebd",
   "metadata": {
    "tags": []
   },
   "outputs": [],
   "source": [
    "#getting remaining 9 teams data\n",
    "data=soup.find_all('td',class_=\"table-body__cell rankings-table__name name\")\n",
    "for i in range(9):\n",
    "    name.append(data[i].text.split('\\n')[1])\n",
    "data = soup.find_all('span',class_=\"table-body__logo-text\")    \n",
    "for i in range(9):\n",
    "    Team.append(data[i].text)\n",
    "data = soup.find_all('td',class_=\"table-body__cell rating\")\n",
    "for i in range(9):\n",
    "    rating.append(data[i].text)"
   ]
  },
  {
   "cell_type": "code",
   "execution_count": 51,
   "id": "4d5df70c-edd3-43be-b69b-49fd9fd1df68",
   "metadata": {
    "tags": []
   },
   "outputs": [
    {
     "name": "stdout",
     "output_type": "stream",
     "text": [
      "10 10 10\n"
     ]
    }
   ],
   "source": [
    "print(len(name),len(Team),len(rating))"
   ]
  },
  {
   "cell_type": "code",
   "execution_count": 52,
   "id": "ca0b77c0-e976-4f7a-b1e1-5a5e542184bb",
   "metadata": {
    "tags": []
   },
   "outputs": [
    {
     "data": {
      "text/html": [
       "<div>\n",
       "<style scoped>\n",
       "    .dataframe tbody tr th:only-of-type {\n",
       "        vertical-align: middle;\n",
       "    }\n",
       "\n",
       "    .dataframe tbody tr th {\n",
       "        vertical-align: top;\n",
       "    }\n",
       "\n",
       "    .dataframe thead th {\n",
       "        text-align: right;\n",
       "    }\n",
       "</style>\n",
       "<table border=\"1\" class=\"dataframe\">\n",
       "  <thead>\n",
       "    <tr style=\"text-align: right;\">\n",
       "      <th></th>\n",
       "      <th>Player Name</th>\n",
       "      <th>Player Team</th>\n",
       "      <th>Player Rating</th>\n",
       "    </tr>\n",
       "  </thead>\n",
       "  <tbody>\n",
       "    <tr>\n",
       "      <th>0</th>\n",
       "      <td>Josh Hazlewood</td>\n",
       "      <td>AUS</td>\n",
       "      <td>705</td>\n",
       "    </tr>\n",
       "    <tr>\n",
       "      <th>1</th>\n",
       "      <td>Trent Boult</td>\n",
       "      <td>NZ</td>\n",
       "      <td>694</td>\n",
       "    </tr>\n",
       "    <tr>\n",
       "      <th>2</th>\n",
       "      <td>Mohammed Siraj</td>\n",
       "      <td>IND</td>\n",
       "      <td>691</td>\n",
       "    </tr>\n",
       "    <tr>\n",
       "      <th>3</th>\n",
       "      <td>Mitchell Starc</td>\n",
       "      <td>AUS</td>\n",
       "      <td>686</td>\n",
       "    </tr>\n",
       "    <tr>\n",
       "      <th>4</th>\n",
       "      <td>Matt Henry</td>\n",
       "      <td>NZ</td>\n",
       "      <td>676</td>\n",
       "    </tr>\n",
       "    <tr>\n",
       "      <th>5</th>\n",
       "      <td>Rashid Khan</td>\n",
       "      <td>AFG</td>\n",
       "      <td>659</td>\n",
       "    </tr>\n",
       "    <tr>\n",
       "      <th>6</th>\n",
       "      <td>Adam Zampa</td>\n",
       "      <td>AUS</td>\n",
       "      <td>652</td>\n",
       "    </tr>\n",
       "    <tr>\n",
       "      <th>7</th>\n",
       "      <td>Shaheen Afridi</td>\n",
       "      <td>PAK</td>\n",
       "      <td>641</td>\n",
       "    </tr>\n",
       "    <tr>\n",
       "      <th>8</th>\n",
       "      <td>Mujeeb Ur Rahman</td>\n",
       "      <td>AFG</td>\n",
       "      <td>637</td>\n",
       "    </tr>\n",
       "    <tr>\n",
       "      <th>9</th>\n",
       "      <td>Shakib Al Hasan</td>\n",
       "      <td>BAN</td>\n",
       "      <td>636</td>\n",
       "    </tr>\n",
       "  </tbody>\n",
       "</table>\n",
       "</div>"
      ],
      "text/plain": [
       "        Player Name Player Team Player Rating\n",
       "0    Josh Hazlewood         AUS           705\n",
       "1       Trent Boult          NZ           694\n",
       "2    Mohammed Siraj         IND           691\n",
       "3    Mitchell Starc         AUS           686\n",
       "4        Matt Henry          NZ           676\n",
       "5       Rashid Khan         AFG           659\n",
       "6        Adam Zampa         AUS           652\n",
       "7    Shaheen Afridi         PAK           641\n",
       "8  Mujeeb Ur Rahman         AFG           637\n",
       "9   Shakib Al Hasan         BAN           636"
      ]
     },
     "execution_count": 52,
     "metadata": {},
     "output_type": "execute_result"
    }
   ],
   "source": [
    "#Creating Data Frame\n",
    "df6 = pd.DataFrame({'Player Name':name,'Player Team':Team,'Player Rating':rating})\n",
    "df6"
   ]
  },
  {
   "cell_type": "code",
   "execution_count": null,
   "id": "96033971-e87c-43a9-a33b-1d98ea22ec13",
   "metadata": {},
   "outputs": [],
   "source": []
  },
  {
   "cell_type": "markdown",
   "id": "9e6dd413-ef9c-4c34-88c8-01909456ba68",
   "metadata": {
    "tags": []
   },
   "source": [
    "## 6) Write a python program to scrape cricket rankings from icc-cricket.com. You have to scrape and make data frame\n",
    "##### a) Top 10 ODI teams in women’s cricket along with the records for matches, points and rating.\n",
    "##### b) Top 10 women’s ODI Batting players along with the records of their team and rating.\n",
    "##### c) Top 10 women’s ODI all-rounder along with the records of their team and rating."
   ]
  },
  {
   "cell_type": "markdown",
   "id": "6c98b40e-dfbf-458e-bc6b-9fef8c48d2d0",
   "metadata": {},
   "source": [
    "### a) Top 10 ODI teams in women’s cricket along with the records for matches, points and rating."
   ]
  },
  {
   "cell_type": "markdown",
   "id": "e7a8379e-de0e-4d9d-b74f-424ed0594052",
   "metadata": {},
   "source": [
    "##### Solution"
   ]
  },
  {
   "cell_type": "code",
   "execution_count": 53,
   "id": "b7f85d3d-b278-4d00-ae91-d342d749e037",
   "metadata": {
    "tags": []
   },
   "outputs": [],
   "source": [
    "# Importing required libraries\n",
    "import requests\n",
    "from bs4 import BeautifulSoup\n",
    "import pandas as pd\n",
    "\n",
    "import warnings\n",
    "warnings.filterwarnings('ignore')"
   ]
  },
  {
   "cell_type": "code",
   "execution_count": 54,
   "id": "e0b0c842-ede4-4635-bbe5-51447da9b296",
   "metadata": {
    "tags": []
   },
   "outputs": [
    {
     "data": {
      "text/plain": [
       "<Response [200]>"
      ]
     },
     "execution_count": 54,
     "metadata": {},
     "output_type": "execute_result"
    }
   ],
   "source": [
    "# Sending a GET request \n",
    "page = requests.get('https://www.icc-cricket.com/rankings/womens/team-rankings/odi')\n",
    "page"
   ]
  },
  {
   "cell_type": "code",
   "execution_count": 55,
   "id": "77b3f94c-4dee-4e1d-8d95-8ef9db81c2a6",
   "metadata": {
    "tags": []
   },
   "outputs": [],
   "source": [
    "# using BeautifulSoup \n",
    "soup = BeautifulSoup(page.content)"
   ]
  },
  {
   "cell_type": "code",
   "execution_count": 56,
   "id": "ac799211-c2d8-4e8b-9967-8d843ce54c7b",
   "metadata": {
    "tags": []
   },
   "outputs": [],
   "source": [
    "# Creating empty lists for storing data\n",
    "name = []\n",
    "matches = []\n",
    "points = []\n",
    "rating = []"
   ]
  },
  {
   "cell_type": "code",
   "execution_count": 57,
   "id": "8d89b104-2c3c-4086-ae1b-e1aadfec5591",
   "metadata": {
    "tags": []
   },
   "outputs": [],
   "source": [
    "# getting name data\n",
    "data=soup.find_all('span',class_=\"u-show-phablet\")\n",
    "for i in range(10):\n",
    "    name.append(data[i].text)"
   ]
  },
  {
   "cell_type": "code",
   "execution_count": 58,
   "id": "74bb6691-9d72-48f6-b8e3-0248c6381574",
   "metadata": {
    "tags": []
   },
   "outputs": [],
   "source": [
    "# getting 1st team details\n",
    "data=soup.find('td',class_=\"rankings-block__banner--matches\")\n",
    "matches.append(data.text)\n",
    "data=soup.find('td',class_=\"rankings-block__banner--points\")\n",
    "points.append(data.text)\n",
    "data=soup.find('td',class_=\"rankings-block__banner--rating u-text-right\")\n",
    "rating.append(data.text.split(\"\\n\")[1][-5:])\n"
   ]
  },
  {
   "cell_type": "code",
   "execution_count": 59,
   "id": "35bbc3e4-013d-4d5d-ab89-9959667ffa10",
   "metadata": {
    "tags": []
   },
   "outputs": [],
   "source": [
    "#getting remaining 9 teams data\n",
    "data=soup.find_all('td',class_=\"table-body__cell u-center-text\")\n",
    "for i in range(0,18,2):\n",
    "    matches.append(data[i].text)\n",
    "for i in range(1,19,2):\n",
    "    points.append(data[i].text)\n",
    "data = soup.find_all('td',class_=\"table-body__cell u-text-right rating\")\n",
    "for i in range(9):\n",
    "    rating.append(data[i].text)"
   ]
  },
  {
   "cell_type": "code",
   "execution_count": 60,
   "id": "f338874b-b55d-4690-96ee-b69d357f8c1b",
   "metadata": {
    "tags": []
   },
   "outputs": [
    {
     "name": "stdout",
     "output_type": "stream",
     "text": [
      "10 10 10 10\n"
     ]
    }
   ],
   "source": [
    "print(len(name),len(matches),len(points),len(rating))"
   ]
  },
  {
   "cell_type": "code",
   "execution_count": 61,
   "id": "ebc3d4ec-6a84-4703-9182-ed0514f44b34",
   "metadata": {
    "tags": []
   },
   "outputs": [
    {
     "data": {
      "text/html": [
       "<div>\n",
       "<style scoped>\n",
       "    .dataframe tbody tr th:only-of-type {\n",
       "        vertical-align: middle;\n",
       "    }\n",
       "\n",
       "    .dataframe tbody tr th {\n",
       "        vertical-align: top;\n",
       "    }\n",
       "\n",
       "    .dataframe thead th {\n",
       "        text-align: right;\n",
       "    }\n",
       "</style>\n",
       "<table border=\"1\" class=\"dataframe\">\n",
       "  <thead>\n",
       "    <tr style=\"text-align: right;\">\n",
       "      <th></th>\n",
       "      <th>Team Name</th>\n",
       "      <th>Matches</th>\n",
       "      <th>Points</th>\n",
       "      <th>Rating</th>\n",
       "    </tr>\n",
       "  </thead>\n",
       "  <tbody>\n",
       "    <tr>\n",
       "      <th>0</th>\n",
       "      <td>AUS</td>\n",
       "      <td>21</td>\n",
       "      <td>3,603</td>\n",
       "      <td>172</td>\n",
       "    </tr>\n",
       "    <tr>\n",
       "      <th>1</th>\n",
       "      <td>ENG</td>\n",
       "      <td>28</td>\n",
       "      <td>3,342</td>\n",
       "      <td>119</td>\n",
       "    </tr>\n",
       "    <tr>\n",
       "      <th>2</th>\n",
       "      <td>SA</td>\n",
       "      <td>26</td>\n",
       "      <td>3,098</td>\n",
       "      <td>119</td>\n",
       "    </tr>\n",
       "    <tr>\n",
       "      <th>3</th>\n",
       "      <td>IND</td>\n",
       "      <td>27</td>\n",
       "      <td>2,820</td>\n",
       "      <td>104</td>\n",
       "    </tr>\n",
       "    <tr>\n",
       "      <th>4</th>\n",
       "      <td>NZ</td>\n",
       "      <td>25</td>\n",
       "      <td>2,553</td>\n",
       "      <td>102</td>\n",
       "    </tr>\n",
       "    <tr>\n",
       "      <th>5</th>\n",
       "      <td>WI</td>\n",
       "      <td>27</td>\n",
       "      <td>2,535</td>\n",
       "      <td>94</td>\n",
       "    </tr>\n",
       "    <tr>\n",
       "      <th>6</th>\n",
       "      <td>BAN</td>\n",
       "      <td>13</td>\n",
       "      <td>983</td>\n",
       "      <td>76</td>\n",
       "    </tr>\n",
       "    <tr>\n",
       "      <th>7</th>\n",
       "      <td>THA</td>\n",
       "      <td>11</td>\n",
       "      <td>821</td>\n",
       "      <td>75</td>\n",
       "    </tr>\n",
       "    <tr>\n",
       "      <th>8</th>\n",
       "      <td>PAK</td>\n",
       "      <td>27</td>\n",
       "      <td>1,678</td>\n",
       "      <td>62</td>\n",
       "    </tr>\n",
       "    <tr>\n",
       "      <th>9</th>\n",
       "      <td>SL</td>\n",
       "      <td>8</td>\n",
       "      <td>353</td>\n",
       "      <td>44</td>\n",
       "    </tr>\n",
       "  </tbody>\n",
       "</table>\n",
       "</div>"
      ],
      "text/plain": [
       "  Team Name Matches Points Rating\n",
       "0       AUS      21  3,603    172\n",
       "1       ENG      28  3,342    119\n",
       "2        SA      26  3,098    119\n",
       "3       IND      27  2,820    104\n",
       "4        NZ      25  2,553    102\n",
       "5        WI      27  2,535     94\n",
       "6       BAN      13    983     76\n",
       "7       THA      11    821     75\n",
       "8       PAK      27  1,678     62\n",
       "9        SL       8    353     44"
      ]
     },
     "execution_count": 61,
     "metadata": {},
     "output_type": "execute_result"
    }
   ],
   "source": [
    "#Creating Data Frame\n",
    "df7 = pd.DataFrame({'Team Name':name,'Matches':matches,'Points':points,'Rating':rating})\n",
    "df7"
   ]
  },
  {
   "cell_type": "markdown",
   "id": "8404de27-b3b0-4704-9d53-b0237af9a211",
   "metadata": {},
   "source": [
    "### b) Top 10 women’s ODI Batting players along with the records of their team and rating."
   ]
  },
  {
   "cell_type": "markdown",
   "id": "2268becb-5320-4a33-a71a-e2806869c60c",
   "metadata": {},
   "source": [
    "#### Soluton"
   ]
  },
  {
   "cell_type": "code",
   "execution_count": 62,
   "id": "5a548d5f-0df9-42a7-acaf-25b4dd1a364d",
   "metadata": {
    "tags": []
   },
   "outputs": [],
   "source": [
    "# Importing required libraries\n",
    "import requests\n",
    "from bs4 import BeautifulSoup\n",
    "import pandas as pd\n",
    "\n",
    "import warnings\n",
    "warnings.filterwarnings('ignore')\n"
   ]
  },
  {
   "cell_type": "code",
   "execution_count": 63,
   "id": "79aa5c38-40f4-4ba2-8929-896a7a318f14",
   "metadata": {
    "tags": []
   },
   "outputs": [
    {
     "data": {
      "text/plain": [
       "<Response [200]>"
      ]
     },
     "execution_count": 63,
     "metadata": {},
     "output_type": "execute_result"
    }
   ],
   "source": [
    "# Sending a GET request \n",
    "page = requests.get('https://www.icc-cricket.com/rankings/womens/player-rankings/odi/batting')\n",
    "page"
   ]
  },
  {
   "cell_type": "code",
   "execution_count": 64,
   "id": "371992f7-0129-4f3c-908c-c9dbff24b688",
   "metadata": {
    "tags": []
   },
   "outputs": [],
   "source": [
    "# using BeautifulSoup \n",
    "soup = BeautifulSoup(page.content)"
   ]
  },
  {
   "cell_type": "code",
   "execution_count": 65,
   "id": "799821ba-237b-4449-bae3-f5a19175ac9e",
   "metadata": {
    "tags": []
   },
   "outputs": [],
   "source": [
    "# Creating empty lists for storing data\n",
    "name = []\n",
    "Team = []\n",
    "rating = []"
   ]
  },
  {
   "cell_type": "code",
   "execution_count": 66,
   "id": "535623a2-120d-447d-9f23-87d6525896d4",
   "metadata": {
    "tags": []
   },
   "outputs": [],
   "source": [
    "# getting Top player details\n",
    "data=soup.find('div',class_=\"rankings-block__banner--name-large\")\n",
    "name.append(data.text)\n",
    "data=soup.find('div',class_=\"rankings-block__banner--nationality\")\n",
    "Team.append(data.text.split('\\n')[2])\n",
    "data=soup.find('div',class_=\"rankings-block__banner--rating\")\n",
    "rating.append(data.text)\n"
   ]
  },
  {
   "cell_type": "code",
   "execution_count": 67,
   "id": "71c1659d-c0c4-4535-a7ec-ddd1e350da9a",
   "metadata": {
    "tags": []
   },
   "outputs": [],
   "source": [
    "#getting remaining 9 teams data\n",
    "data=soup.find_all('td',class_=\"table-body__cell rankings-table__name name\")\n",
    "for i in range(9):\n",
    "    name.append(data[i].text.split('\\n')[1])\n",
    "data = soup.find_all('span',class_=\"table-body__logo-text\")    \n",
    "for i in range(9):\n",
    "    Team.append(data[i].text)\n",
    "data = soup.find_all('td',class_=\"table-body__cell rating\")\n",
    "for i in range(9):\n",
    "    rating.append(data[i].text)"
   ]
  },
  {
   "cell_type": "code",
   "execution_count": 68,
   "id": "0f3b45c3-68c3-4e52-a586-c04afa4a2443",
   "metadata": {
    "tags": []
   },
   "outputs": [
    {
     "name": "stdout",
     "output_type": "stream",
     "text": [
      "10 10 10\n"
     ]
    }
   ],
   "source": [
    "print(len(name),len(Team),len(rating))"
   ]
  },
  {
   "cell_type": "code",
   "execution_count": 69,
   "id": "f6fe2a4e-1856-47d6-9b1e-c56580ae3b67",
   "metadata": {
    "tags": []
   },
   "outputs": [
    {
     "data": {
      "text/html": [
       "<div>\n",
       "<style scoped>\n",
       "    .dataframe tbody tr th:only-of-type {\n",
       "        vertical-align: middle;\n",
       "    }\n",
       "\n",
       "    .dataframe tbody tr th {\n",
       "        vertical-align: top;\n",
       "    }\n",
       "\n",
       "    .dataframe thead th {\n",
       "        text-align: right;\n",
       "    }\n",
       "</style>\n",
       "<table border=\"1\" class=\"dataframe\">\n",
       "  <thead>\n",
       "    <tr style=\"text-align: right;\">\n",
       "      <th></th>\n",
       "      <th>Player Name</th>\n",
       "      <th>Player Team</th>\n",
       "      <th>Player Rating</th>\n",
       "    </tr>\n",
       "  </thead>\n",
       "  <tbody>\n",
       "    <tr>\n",
       "      <th>0</th>\n",
       "      <td>Alyssa Healy</td>\n",
       "      <td>AUS</td>\n",
       "      <td>762</td>\n",
       "    </tr>\n",
       "    <tr>\n",
       "      <th>1</th>\n",
       "      <td>Beth Mooney</td>\n",
       "      <td>AUS</td>\n",
       "      <td>754</td>\n",
       "    </tr>\n",
       "    <tr>\n",
       "      <th>2</th>\n",
       "      <td>Laura Wolvaardt</td>\n",
       "      <td>SA</td>\n",
       "      <td>732</td>\n",
       "    </tr>\n",
       "    <tr>\n",
       "      <th>3</th>\n",
       "      <td>Natalie Sciver</td>\n",
       "      <td>ENG</td>\n",
       "      <td>731</td>\n",
       "    </tr>\n",
       "    <tr>\n",
       "      <th>4</th>\n",
       "      <td>Meg Lanning</td>\n",
       "      <td>AUS</td>\n",
       "      <td>717</td>\n",
       "    </tr>\n",
       "    <tr>\n",
       "      <th>5</th>\n",
       "      <td>Harmanpreet Kaur</td>\n",
       "      <td>IND</td>\n",
       "      <td>716</td>\n",
       "    </tr>\n",
       "    <tr>\n",
       "      <th>6</th>\n",
       "      <td>Smriti Mandhana</td>\n",
       "      <td>IND</td>\n",
       "      <td>714</td>\n",
       "    </tr>\n",
       "    <tr>\n",
       "      <th>7</th>\n",
       "      <td>Chamari Athapaththu</td>\n",
       "      <td>SL</td>\n",
       "      <td>655</td>\n",
       "    </tr>\n",
       "    <tr>\n",
       "      <th>8</th>\n",
       "      <td>Amy Satterthwaite</td>\n",
       "      <td>NZ</td>\n",
       "      <td>641</td>\n",
       "    </tr>\n",
       "    <tr>\n",
       "      <th>9</th>\n",
       "      <td>Ellyse Perry</td>\n",
       "      <td>AUS</td>\n",
       "      <td>626</td>\n",
       "    </tr>\n",
       "  </tbody>\n",
       "</table>\n",
       "</div>"
      ],
      "text/plain": [
       "           Player Name Player Team Player Rating\n",
       "0         Alyssa Healy         AUS           762\n",
       "1          Beth Mooney         AUS           754\n",
       "2      Laura Wolvaardt          SA           732\n",
       "3       Natalie Sciver         ENG           731\n",
       "4          Meg Lanning         AUS           717\n",
       "5     Harmanpreet Kaur         IND           716\n",
       "6      Smriti Mandhana         IND           714\n",
       "7  Chamari Athapaththu          SL           655\n",
       "8    Amy Satterthwaite          NZ           641\n",
       "9         Ellyse Perry         AUS           626"
      ]
     },
     "execution_count": 69,
     "metadata": {},
     "output_type": "execute_result"
    }
   ],
   "source": [
    "#Creating Data Frame\n",
    "df8 = pd.DataFrame({'Player Name':name,'Player Team':Team,'Player Rating':rating})\n",
    "df8"
   ]
  },
  {
   "cell_type": "markdown",
   "id": "90d1c2c3-a655-4b9b-b295-f449728e6f01",
   "metadata": {},
   "source": [
    "### c) Top 10 women’s ODI all-rounder along with the records of their team and rating"
   ]
  },
  {
   "cell_type": "markdown",
   "id": "2b3075c7-6ab3-48d1-946f-2d912d1df82e",
   "metadata": {},
   "source": [
    "##### Solution"
   ]
  },
  {
   "cell_type": "code",
   "execution_count": 70,
   "id": "12a2f0fe-206d-4f6c-b74d-56aba973c39f",
   "metadata": {
    "tags": []
   },
   "outputs": [],
   "source": [
    "# Importing required libraries\n",
    "import requests\n",
    "from bs4 import BeautifulSoup\n",
    "import pandas as pd\n",
    "\n",
    "import warnings\n",
    "warnings.filterwarnings('ignore')\n"
   ]
  },
  {
   "cell_type": "code",
   "execution_count": 71,
   "id": "074b6773-0c1e-4e61-ad2c-b32fd57cf65b",
   "metadata": {
    "tags": []
   },
   "outputs": [
    {
     "data": {
      "text/plain": [
       "<Response [200]>"
      ]
     },
     "execution_count": 71,
     "metadata": {},
     "output_type": "execute_result"
    }
   ],
   "source": [
    "# Sending a GET request \n",
    "page = requests.get('https://www.icc-cricket.com/rankings/womens/player-rankings/odi/bowling')\n",
    "page"
   ]
  },
  {
   "cell_type": "code",
   "execution_count": 72,
   "id": "570e93ae-4dfb-47af-9804-9202ecb26fe7",
   "metadata": {
    "tags": []
   },
   "outputs": [],
   "source": [
    "# using BeautifulSoup \n",
    "soup = BeautifulSoup(page.content)"
   ]
  },
  {
   "cell_type": "code",
   "execution_count": 73,
   "id": "60213971-7ed5-4412-99e8-7d725f20f288",
   "metadata": {
    "tags": []
   },
   "outputs": [],
   "source": [
    "# Creating empty lists for storing data\n",
    "name = []\n",
    "Team = []\n",
    "rating = []"
   ]
  },
  {
   "cell_type": "code",
   "execution_count": 74,
   "id": "486d7b85-805b-4d2a-856c-516507fc8576",
   "metadata": {
    "tags": []
   },
   "outputs": [],
   "source": [
    "# getting Top player details\n",
    "data=soup.find('div',class_=\"rankings-block__banner--name-large\")\n",
    "name.append(data.text)\n",
    "data=soup.find('div',class_=\"rankings-block__banner--nationality\")\n",
    "Team.append(data.text.split('\\n')[2])\n",
    "data=soup.find('div',class_=\"rankings-block__banner--rating\")\n",
    "rating.append(data.text)\n"
   ]
  },
  {
   "cell_type": "code",
   "execution_count": 75,
   "id": "e980c16e-3b43-42f5-96b2-2a473acdddf8",
   "metadata": {
    "tags": []
   },
   "outputs": [],
   "source": [
    "#getting remaining 9 teams data\n",
    "data=soup.find_all('td',class_=\"table-body__cell rankings-table__name name\")\n",
    "for i in range(9):\n",
    "    name.append(data[i].text.split('\\n')[1])\n",
    "data = soup.find_all('span',class_=\"table-body__logo-text\")    \n",
    "for i in range(9):\n",
    "    Team.append(data[i].text)\n",
    "data = soup.find_all('td',class_=\"table-body__cell rating\")\n",
    "for i in range(9):\n",
    "    rating.append(data[i].text)"
   ]
  },
  {
   "cell_type": "code",
   "execution_count": 76,
   "id": "78561e8b-aa9f-4ad2-8b30-f1b71dc0c7c8",
   "metadata": {
    "tags": []
   },
   "outputs": [
    {
     "name": "stdout",
     "output_type": "stream",
     "text": [
      "10 10 10\n"
     ]
    }
   ],
   "source": [
    "print(len(name),len(Team),len(rating))"
   ]
  },
  {
   "cell_type": "code",
   "execution_count": 77,
   "id": "d929d4e3-1971-4850-823e-b869363ae2c1",
   "metadata": {
    "tags": []
   },
   "outputs": [
    {
     "data": {
      "text/html": [
       "<div>\n",
       "<style scoped>\n",
       "    .dataframe tbody tr th:only-of-type {\n",
       "        vertical-align: middle;\n",
       "    }\n",
       "\n",
       "    .dataframe tbody tr th {\n",
       "        vertical-align: top;\n",
       "    }\n",
       "\n",
       "    .dataframe thead th {\n",
       "        text-align: right;\n",
       "    }\n",
       "</style>\n",
       "<table border=\"1\" class=\"dataframe\">\n",
       "  <thead>\n",
       "    <tr style=\"text-align: right;\">\n",
       "      <th></th>\n",
       "      <th>Player Name</th>\n",
       "      <th>Player Team</th>\n",
       "      <th>Player Rating</th>\n",
       "    </tr>\n",
       "  </thead>\n",
       "  <tbody>\n",
       "    <tr>\n",
       "      <th>0</th>\n",
       "      <td>Sophie Ecclestone</td>\n",
       "      <td>ENG</td>\n",
       "      <td>751</td>\n",
       "    </tr>\n",
       "    <tr>\n",
       "      <th>1</th>\n",
       "      <td>Jess Jonassen</td>\n",
       "      <td>AUS</td>\n",
       "      <td>723</td>\n",
       "    </tr>\n",
       "    <tr>\n",
       "      <th>2</th>\n",
       "      <td>Shabnim Ismail</td>\n",
       "      <td>SA</td>\n",
       "      <td>722</td>\n",
       "    </tr>\n",
       "    <tr>\n",
       "      <th>3</th>\n",
       "      <td>Megan Schutt</td>\n",
       "      <td>AUS</td>\n",
       "      <td>704</td>\n",
       "    </tr>\n",
       "    <tr>\n",
       "      <th>4</th>\n",
       "      <td>Hayley Matthews</td>\n",
       "      <td>WI</td>\n",
       "      <td>660</td>\n",
       "    </tr>\n",
       "    <tr>\n",
       "      <th>5</th>\n",
       "      <td>Kate Cross</td>\n",
       "      <td>ENG</td>\n",
       "      <td>655</td>\n",
       "    </tr>\n",
       "    <tr>\n",
       "      <th>6</th>\n",
       "      <td>Ayabonga Khaka</td>\n",
       "      <td>SA</td>\n",
       "      <td>634</td>\n",
       "    </tr>\n",
       "    <tr>\n",
       "      <th>7</th>\n",
       "      <td>Rajeshwari Gayakwad</td>\n",
       "      <td>IND</td>\n",
       "      <td>617</td>\n",
       "    </tr>\n",
       "    <tr>\n",
       "      <th>8</th>\n",
       "      <td>Marizanne Kapp</td>\n",
       "      <td>SA</td>\n",
       "      <td>598</td>\n",
       "    </tr>\n",
       "    <tr>\n",
       "      <th>9</th>\n",
       "      <td>Deepti Sharma</td>\n",
       "      <td>IND</td>\n",
       "      <td>589</td>\n",
       "    </tr>\n",
       "  </tbody>\n",
       "</table>\n",
       "</div>"
      ],
      "text/plain": [
       "           Player Name Player Team Player Rating\n",
       "0    Sophie Ecclestone         ENG           751\n",
       "1        Jess Jonassen         AUS           723\n",
       "2       Shabnim Ismail          SA           722\n",
       "3         Megan Schutt         AUS           704\n",
       "4      Hayley Matthews          WI           660\n",
       "5           Kate Cross         ENG           655\n",
       "6       Ayabonga Khaka          SA           634\n",
       "7  Rajeshwari Gayakwad         IND           617\n",
       "8       Marizanne Kapp          SA           598\n",
       "9        Deepti Sharma         IND           589"
      ]
     },
     "execution_count": 77,
     "metadata": {},
     "output_type": "execute_result"
    }
   ],
   "source": [
    "#Creating Data Frame\n",
    "df9 = pd.DataFrame({'Player Name':name,'Player Team':Team,'Player Rating':rating})\n",
    "df9"
   ]
  },
  {
   "cell_type": "code",
   "execution_count": null,
   "id": "5db2ad5b-f422-4b79-bf7d-c0cf342c716d",
   "metadata": {},
   "outputs": [],
   "source": []
  },
  {
   "cell_type": "markdown",
   "id": "eb0692d3-3ac0-40b0-a4a5-0a8d9cad5369",
   "metadata": {},
   "source": [
    "## 7)Write a python program to scrape mentioned news details from https://www.cnbc.com/world/?region=world and make data frame\n",
    "1. Headline\n",
    "2. Time\n",
    "3. News Link"
   ]
  },
  {
   "cell_type": "markdown",
   "id": "05fb194a-1d00-4ebe-884a-e88688693b67",
   "metadata": {},
   "source": [
    "#### Solution"
   ]
  },
  {
   "cell_type": "code",
   "execution_count": 78,
   "id": "38e4367e-0d1a-474a-9444-c9e2b7cf6da5",
   "metadata": {},
   "outputs": [],
   "source": [
    "# Importing required libraries\n",
    "import requests\n",
    "from bs4 import BeautifulSoup\n",
    "import pandas as pd\n",
    "\n",
    "import warnings\n",
    "warnings.filterwarnings('ignore')\n"
   ]
  },
  {
   "cell_type": "code",
   "execution_count": 79,
   "id": "d8c82cb7-dde3-44e3-b72c-569aaf9e8ca1",
   "metadata": {},
   "outputs": [
    {
     "data": {
      "text/plain": [
       "<Response [200]>"
      ]
     },
     "execution_count": 79,
     "metadata": {},
     "output_type": "execute_result"
    }
   ],
   "source": [
    "# Sending a GET request \n",
    "page = requests.get('https://www.cnbc.com/world/?region=world')\n",
    "page"
   ]
  },
  {
   "cell_type": "code",
   "execution_count": 80,
   "id": "a8d1bed2-02f5-422a-9b57-180af1153bfa",
   "metadata": {},
   "outputs": [],
   "source": [
    "# using BeautifulSoup \n",
    "soup = BeautifulSoup(page.content)"
   ]
  },
  {
   "cell_type": "code",
   "execution_count": 81,
   "id": "088fed05-8b1d-452c-b330-c34ec01977a7",
   "metadata": {
    "tags": []
   },
   "outputs": [],
   "source": [
    "# Creating empty lists and storing Data\n",
    "title = []\n",
    "link = []\n",
    "articles = soup.find_all('a', class_='LatestNews-headline')\n",
    "for i in range(len(articles)):\n",
    "\n",
    "    title.append(articles[i].text)\n",
    "    link.append(articles[i].get('href'))\n",
    "time = []\n",
    "articles = soup.find_all('time', class_='LatestNews-timestamp')\n",
    "for i in range(len(articles)):\n",
    "\n",
    "    time.append(articles[i].text)   "
   ]
  },
  {
   "cell_type": "code",
   "execution_count": 82,
   "id": "1b515487-ab6d-4bf7-b523-91497c8d704d",
   "metadata": {
    "tags": []
   },
   "outputs": [
    {
     "name": "stdout",
     "output_type": "stream",
     "text": [
      "30 30 30\n"
     ]
    }
   ],
   "source": [
    "print(len(title),len(link),len(time))"
   ]
  },
  {
   "cell_type": "code",
   "execution_count": 83,
   "id": "9003d45c-a7cb-4bf2-9c9d-af7477f81f73",
   "metadata": {
    "tags": []
   },
   "outputs": [
    {
     "data": {
      "text/html": [
       "<div>\n",
       "<style scoped>\n",
       "    .dataframe tbody tr th:only-of-type {\n",
       "        vertical-align: middle;\n",
       "    }\n",
       "\n",
       "    .dataframe tbody tr th {\n",
       "        vertical-align: top;\n",
       "    }\n",
       "\n",
       "    .dataframe thead th {\n",
       "        text-align: right;\n",
       "    }\n",
       "</style>\n",
       "<table border=\"1\" class=\"dataframe\">\n",
       "  <thead>\n",
       "    <tr style=\"text-align: right;\">\n",
       "      <th></th>\n",
       "      <th>News Title</th>\n",
       "      <th>Time</th>\n",
       "      <th>News Link</th>\n",
       "    </tr>\n",
       "  </thead>\n",
       "  <tbody>\n",
       "    <tr>\n",
       "      <th>0</th>\n",
       "      <td>Biden to make 2024 economic case in first spee...</td>\n",
       "      <td>12 Min Ago</td>\n",
       "      <td>https://www.cnbc.com/2023/04/25/joe-biden-2024...</td>\n",
       "    </tr>\n",
       "    <tr>\n",
       "      <th>1</th>\n",
       "      <td>Halliburton's first-quarter results validate o...</td>\n",
       "      <td>17 Min Ago</td>\n",
       "      <td>https://www.cnbc.com/2023/04/25/halliburtons-q...</td>\n",
       "    </tr>\n",
       "    <tr>\n",
       "      <th>2</th>\n",
       "      <td>Danaher's guidance weighs on the stock, forces...</td>\n",
       "      <td>32 Min Ago</td>\n",
       "      <td>https://www.cnbc.com/2023/04/25/danahers-guida...</td>\n",
       "    </tr>\n",
       "    <tr>\n",
       "      <th>3</th>\n",
       "      <td>Stanford and MIT study: A.I. boosted worker pr...</td>\n",
       "      <td>39 Min Ago</td>\n",
       "      <td>https://www.cnbc.com/2023/04/25/stanford-and-m...</td>\n",
       "    </tr>\n",
       "    <tr>\n",
       "      <th>4</th>\n",
       "      <td>Watch live as Japanese ispace aims to be first...</td>\n",
       "      <td>56 Min Ago</td>\n",
       "      <td>https://www.cnbc.com/2023/04/25/ispace-moon-la...</td>\n",
       "    </tr>\n",
       "    <tr>\n",
       "      <th>5</th>\n",
       "      <td>How the U.S. built a junk fee economy</td>\n",
       "      <td>1 Hour Ago</td>\n",
       "      <td>https://www.cnbc.com/2023/04/25/how-the-us-bui...</td>\n",
       "    </tr>\n",
       "    <tr>\n",
       "      <th>6</th>\n",
       "      <td>BofA double upgrades this private social club ...</td>\n",
       "      <td>1 Hour Ago</td>\n",
       "      <td>https://www.cnbc.com/2023/04/25/bank-of-americ...</td>\n",
       "    </tr>\n",
       "    <tr>\n",
       "      <th>7</th>\n",
       "      <td>Bitcoin volatility is back to March lows, but ...</td>\n",
       "      <td>1 Hour Ago</td>\n",
       "      <td>https://www.cnbc.com/2023/04/25/bitcoin-volati...</td>\n",
       "    </tr>\n",
       "    <tr>\n",
       "      <th>8</th>\n",
       "      <td>McDonald's diners push back against price incr...</td>\n",
       "      <td>1 Hour Ago</td>\n",
       "      <td>https://www.cnbc.com/2023/04/25/mcdonalds-dine...</td>\n",
       "    </tr>\n",
       "    <tr>\n",
       "      <th>9</th>\n",
       "      <td>These private and public colleges top the list...</td>\n",
       "      <td>1 Hour Ago</td>\n",
       "      <td>https://www.cnbc.com/2023/04/25/best-colleges-...</td>\n",
       "    </tr>\n",
       "    <tr>\n",
       "      <th>10</th>\n",
       "      <td>Technology’s year of efficiency faces it first...</td>\n",
       "      <td>2 Hours Ago</td>\n",
       "      <td>https://www.cnbc.com/2023/04/25/technologys-ye...</td>\n",
       "    </tr>\n",
       "    <tr>\n",
       "      <th>11</th>\n",
       "      <td>People are using A.I. chatbots to write Amazon...</td>\n",
       "      <td>2 Hours Ago</td>\n",
       "      <td>https://www.cnbc.com/2023/04/25/amazon-reviews...</td>\n",
       "    </tr>\n",
       "    <tr>\n",
       "      <th>12</th>\n",
       "      <td>ChatGPT and AI are the next worker recruitment...</td>\n",
       "      <td>2 Hours Ago</td>\n",
       "      <td>https://www.cnbc.com/2023/04/25/chatgpt-and-ai...</td>\n",
       "    </tr>\n",
       "    <tr>\n",
       "      <th>13</th>\n",
       "      <td>This 33-year-old went from a $60,000 salary to...</td>\n",
       "      <td>2 Hours Ago</td>\n",
       "      <td>https://www.cnbc.com/2023/04/25/33-year-old-in...</td>\n",
       "    </tr>\n",
       "    <tr>\n",
       "      <th>14</th>\n",
       "      <td>The 10 highest-paying internships of 2023, acc...</td>\n",
       "      <td>3 Hours Ago</td>\n",
       "      <td>https://www.cnbc.com/2023/04/25/glassdoor-repo...</td>\n",
       "    </tr>\n",
       "    <tr>\n",
       "      <th>15</th>\n",
       "      <td>No 'immediate path forward': CFTC is talking t...</td>\n",
       "      <td>3 Hours Ago</td>\n",
       "      <td>https://www.cnbc.com/2023/04/25/cftc-commissio...</td>\n",
       "    </tr>\n",
       "    <tr>\n",
       "      <th>16</th>\n",
       "      <td>Famed investor Peter Lynch says he doesn't own...</td>\n",
       "      <td>3 Hours Ago</td>\n",
       "      <td>https://www.cnbc.com/2023/04/25/famed-investor...</td>\n",
       "    </tr>\n",
       "    <tr>\n",
       "      <th>17</th>\n",
       "      <td>Travel recovery boosts jet engine units at GE ...</td>\n",
       "      <td>3 Hours Ago</td>\n",
       "      <td>https://www.cnbc.com/2023/04/25/travel-recover...</td>\n",
       "    </tr>\n",
       "    <tr>\n",
       "      <th>18</th>\n",
       "      <td>Amazon, Apple and more: EU names the Big Tech ...</td>\n",
       "      <td>3 Hours Ago</td>\n",
       "      <td>https://www.cnbc.com/2023/04/25/amazon-apple-a...</td>\n",
       "    </tr>\n",
       "    <tr>\n",
       "      <th>19</th>\n",
       "      <td>Jim Cramer's top 10 things to watch in the sto...</td>\n",
       "      <td>3 Hours Ago</td>\n",
       "      <td>https://www.cnbc.com/2023/04/25/jim-cramers-to...</td>\n",
       "    </tr>\n",
       "    <tr>\n",
       "      <th>20</th>\n",
       "      <td>Investing legend Peter Lynch on the investment...</td>\n",
       "      <td>3 Hours Ago</td>\n",
       "      <td>https://www.cnbc.com/2023/04/25/investing-lege...</td>\n",
       "    </tr>\n",
       "    <tr>\n",
       "      <th>21</th>\n",
       "      <td>Microsoft set to report quarterly earnings aft...</td>\n",
       "      <td>3 Hours Ago</td>\n",
       "      <td>https://www.cnbc.com/2023/04/25/microsoft-msft...</td>\n",
       "    </tr>\n",
       "    <tr>\n",
       "      <th>22</th>\n",
       "      <td>Self-made millionaire: How people in their 20s...</td>\n",
       "      <td>3 Hours Ago</td>\n",
       "      <td>https://www.cnbc.com/2023/04/25/ramit-sethi-be...</td>\n",
       "    </tr>\n",
       "    <tr>\n",
       "      <th>23</th>\n",
       "      <td>Alphabet to issue first-quarter results after ...</td>\n",
       "      <td>3 Hours Ago</td>\n",
       "      <td>https://www.cnbc.com/2023/04/25/alphabet-googl...</td>\n",
       "    </tr>\n",
       "    <tr>\n",
       "      <th>24</th>\n",
       "      <td>Nvidia has a new way to prevent A.I. chatbots ...</td>\n",
       "      <td>3 Hours Ago</td>\n",
       "      <td>https://www.cnbc.com/2023/04/25/nvidia-nemo-gu...</td>\n",
       "    </tr>\n",
       "    <tr>\n",
       "      <th>25</th>\n",
       "      <td>Lucid's Gravity SUV takes another step toward ...</td>\n",
       "      <td>3 Hours Ago</td>\n",
       "      <td>https://www.cnbc.com/2023/04/25/lucid-gravity-...</td>\n",
       "    </tr>\n",
       "    <tr>\n",
       "      <th>26</th>\n",
       "      <td>GM to end production of Chevy Bolt, its first ...</td>\n",
       "      <td>4 Hours Ago</td>\n",
       "      <td>https://www.cnbc.com/2023/04/25/gm-bolt-ev-pro...</td>\n",
       "    </tr>\n",
       "    <tr>\n",
       "      <th>27</th>\n",
       "      <td>Peter Lynch says his investing strategy still ...</td>\n",
       "      <td>4 Hours Ago</td>\n",
       "      <td>https://www.cnbc.com/2023/04/25/peter-lynch-sa...</td>\n",
       "    </tr>\n",
       "    <tr>\n",
       "      <th>28</th>\n",
       "      <td>Johnson &amp; Johnson's Kenvue spinoff revives hop...</td>\n",
       "      <td>4 Hours Ago</td>\n",
       "      <td>https://www.cnbc.com/2023/04/25/johnson-johnso...</td>\n",
       "    </tr>\n",
       "    <tr>\n",
       "      <th>29</th>\n",
       "      <td>Tuesday's top analyst calls: Meta, Tesla, Amaz...</td>\n",
       "      <td>4 Hours Ago</td>\n",
       "      <td>https://www.cnbc.com/2023/04/25/wall-street-an...</td>\n",
       "    </tr>\n",
       "  </tbody>\n",
       "</table>\n",
       "</div>"
      ],
      "text/plain": [
       "                                           News Title         Time  \\\n",
       "0   Biden to make 2024 economic case in first spee...   12 Min Ago   \n",
       "1   Halliburton's first-quarter results validate o...   17 Min Ago   \n",
       "2   Danaher's guidance weighs on the stock, forces...   32 Min Ago   \n",
       "3   Stanford and MIT study: A.I. boosted worker pr...   39 Min Ago   \n",
       "4   Watch live as Japanese ispace aims to be first...   56 Min Ago   \n",
       "5               How the U.S. built a junk fee economy   1 Hour Ago   \n",
       "6   BofA double upgrades this private social club ...   1 Hour Ago   \n",
       "7   Bitcoin volatility is back to March lows, but ...   1 Hour Ago   \n",
       "8   McDonald's diners push back against price incr...   1 Hour Ago   \n",
       "9   These private and public colleges top the list...   1 Hour Ago   \n",
       "10  Technology’s year of efficiency faces it first...  2 Hours Ago   \n",
       "11  People are using A.I. chatbots to write Amazon...  2 Hours Ago   \n",
       "12  ChatGPT and AI are the next worker recruitment...  2 Hours Ago   \n",
       "13  This 33-year-old went from a $60,000 salary to...  2 Hours Ago   \n",
       "14  The 10 highest-paying internships of 2023, acc...  3 Hours Ago   \n",
       "15  No 'immediate path forward': CFTC is talking t...  3 Hours Ago   \n",
       "16  Famed investor Peter Lynch says he doesn't own...  3 Hours Ago   \n",
       "17  Travel recovery boosts jet engine units at GE ...  3 Hours Ago   \n",
       "18  Amazon, Apple and more: EU names the Big Tech ...  3 Hours Ago   \n",
       "19  Jim Cramer's top 10 things to watch in the sto...  3 Hours Ago   \n",
       "20  Investing legend Peter Lynch on the investment...  3 Hours Ago   \n",
       "21  Microsoft set to report quarterly earnings aft...  3 Hours Ago   \n",
       "22  Self-made millionaire: How people in their 20s...  3 Hours Ago   \n",
       "23  Alphabet to issue first-quarter results after ...  3 Hours Ago   \n",
       "24  Nvidia has a new way to prevent A.I. chatbots ...  3 Hours Ago   \n",
       "25  Lucid's Gravity SUV takes another step toward ...  3 Hours Ago   \n",
       "26  GM to end production of Chevy Bolt, its first ...  4 Hours Ago   \n",
       "27  Peter Lynch says his investing strategy still ...  4 Hours Ago   \n",
       "28  Johnson & Johnson's Kenvue spinoff revives hop...  4 Hours Ago   \n",
       "29  Tuesday's top analyst calls: Meta, Tesla, Amaz...  4 Hours Ago   \n",
       "\n",
       "                                            News Link  \n",
       "0   https://www.cnbc.com/2023/04/25/joe-biden-2024...  \n",
       "1   https://www.cnbc.com/2023/04/25/halliburtons-q...  \n",
       "2   https://www.cnbc.com/2023/04/25/danahers-guida...  \n",
       "3   https://www.cnbc.com/2023/04/25/stanford-and-m...  \n",
       "4   https://www.cnbc.com/2023/04/25/ispace-moon-la...  \n",
       "5   https://www.cnbc.com/2023/04/25/how-the-us-bui...  \n",
       "6   https://www.cnbc.com/2023/04/25/bank-of-americ...  \n",
       "7   https://www.cnbc.com/2023/04/25/bitcoin-volati...  \n",
       "8   https://www.cnbc.com/2023/04/25/mcdonalds-dine...  \n",
       "9   https://www.cnbc.com/2023/04/25/best-colleges-...  \n",
       "10  https://www.cnbc.com/2023/04/25/technologys-ye...  \n",
       "11  https://www.cnbc.com/2023/04/25/amazon-reviews...  \n",
       "12  https://www.cnbc.com/2023/04/25/chatgpt-and-ai...  \n",
       "13  https://www.cnbc.com/2023/04/25/33-year-old-in...  \n",
       "14  https://www.cnbc.com/2023/04/25/glassdoor-repo...  \n",
       "15  https://www.cnbc.com/2023/04/25/cftc-commissio...  \n",
       "16  https://www.cnbc.com/2023/04/25/famed-investor...  \n",
       "17  https://www.cnbc.com/2023/04/25/travel-recover...  \n",
       "18  https://www.cnbc.com/2023/04/25/amazon-apple-a...  \n",
       "19  https://www.cnbc.com/2023/04/25/jim-cramers-to...  \n",
       "20  https://www.cnbc.com/2023/04/25/investing-lege...  \n",
       "21  https://www.cnbc.com/2023/04/25/microsoft-msft...  \n",
       "22  https://www.cnbc.com/2023/04/25/ramit-sethi-be...  \n",
       "23  https://www.cnbc.com/2023/04/25/alphabet-googl...  \n",
       "24  https://www.cnbc.com/2023/04/25/nvidia-nemo-gu...  \n",
       "25  https://www.cnbc.com/2023/04/25/lucid-gravity-...  \n",
       "26  https://www.cnbc.com/2023/04/25/gm-bolt-ev-pro...  \n",
       "27  https://www.cnbc.com/2023/04/25/peter-lynch-sa...  \n",
       "28  https://www.cnbc.com/2023/04/25/johnson-johnso...  \n",
       "29  https://www.cnbc.com/2023/04/25/wall-street-an...  "
      ]
     },
     "execution_count": 83,
     "metadata": {},
     "output_type": "execute_result"
    }
   ],
   "source": [
    "# Creating the Required Data Frame\n",
    "df9 = pd.DataFrame({'News Title':title,'Time':time,'News Link':link})\n",
    "df9"
   ]
  },
  {
   "cell_type": "code",
   "execution_count": null,
   "id": "391fc09d-c05c-4381-97d4-b4bb149febea",
   "metadata": {},
   "outputs": [],
   "source": []
  },
  {
   "cell_type": "markdown",
   "id": "75079f65-3dee-49da-a2ae-d8d2f3a85569",
   "metadata": {},
   "source": [
    "### 8) Write a python program to scrape the details of most downloaded articles from AI in last 90 days.https://www.journals.elsevier.com/artificial-intelligence/most-downloaded-articles Scrape below mentioned details and make data frame\n",
    "1. Paper Title\n",
    "2. Authors\n",
    "3. Published Date\n",
    "4. Paper URL\n"
   ]
  },
  {
   "cell_type": "markdown",
   "id": "87bb48bf-37e4-4e58-b38f-744de905630a",
   "metadata": {},
   "source": [
    "##### Solution"
   ]
  },
  {
   "cell_type": "code",
   "execution_count": 84,
   "id": "93a3cc5d-6a7b-4abf-a74a-3e2dac0f70b0",
   "metadata": {
    "tags": []
   },
   "outputs": [],
   "source": [
    "# Importing required libraries\n",
    "import requests\n",
    "from bs4 import BeautifulSoup\n",
    "import pandas as pd\n",
    "\n",
    "import warnings\n",
    "warnings.filterwarnings('ignore')\n"
   ]
  },
  {
   "cell_type": "code",
   "execution_count": 85,
   "id": "361fb8f1-5a09-484a-8713-5f92f93d5da3",
   "metadata": {
    "tags": []
   },
   "outputs": [
    {
     "data": {
      "text/plain": [
       "<Response [200]>"
      ]
     },
     "execution_count": 85,
     "metadata": {},
     "output_type": "execute_result"
    }
   ],
   "source": [
    "# Sending a GET request \n",
    "page = requests.get('https://www.journals.elsevier.com/artificial-intelligence/most-downloaded-articles')\n",
    "page"
   ]
  },
  {
   "cell_type": "code",
   "execution_count": 86,
   "id": "7154e937-a70c-42a9-a864-405e9e57f061",
   "metadata": {
    "tags": []
   },
   "outputs": [],
   "source": [
    "# using BeautifulSoup \n",
    "soup = BeautifulSoup(page.content)"
   ]
  },
  {
   "cell_type": "code",
   "execution_count": 87,
   "id": "305a8bc2-9064-4b56-bb9e-5d33d46409f0",
   "metadata": {
    "tags": []
   },
   "outputs": [],
   "source": [
    "# Creating empty lists and storing Data\n",
    "Paper_Title = []\n",
    "Authors = []\n",
    "Published_Date = []\n",
    "Paper_URL = []\n",
    "\n",
    "for i in soup.find_all('h2', class_='sc-1qrq3sd-1 gRGSUS sc-1nmom32-0 sc-1nmom32-1 btcbYu goSKRg'):\n",
    "    Paper_Title.append(i.text)\n",
    "for i in soup.find_all('span', class_='sc-1w3fpd7-0 dnCnAO'):\n",
    "    Authors.append(i.text)\n",
    "for i in soup.find_all('span',class_='sc-1thf9ly-2 dvggWt'):\n",
    "    Published_Date.append(i.text)    \n",
    "for i in soup.find_all('a',class_='sc-5smygv-0 fIXTHm'):\n",
    "    Paper_URL.append(i.get('href'))        "
   ]
  },
  {
   "cell_type": "code",
   "execution_count": 88,
   "id": "85e4a29a-4116-4030-b678-e0e09f2702b5",
   "metadata": {
    "tags": []
   },
   "outputs": [
    {
     "name": "stdout",
     "output_type": "stream",
     "text": [
      "25 25 25 25\n"
     ]
    }
   ],
   "source": [
    "print(len(Paper_Title),len(Authors),len(Published_Date),len(Paper_URL))"
   ]
  },
  {
   "cell_type": "code",
   "execution_count": 89,
   "id": "c4095d8b-b74b-49f8-afc4-9afdd29f1329",
   "metadata": {
    "tags": []
   },
   "outputs": [
    {
     "data": {
      "text/html": [
       "<div>\n",
       "<style scoped>\n",
       "    .dataframe tbody tr th:only-of-type {\n",
       "        vertical-align: middle;\n",
       "    }\n",
       "\n",
       "    .dataframe tbody tr th {\n",
       "        vertical-align: top;\n",
       "    }\n",
       "\n",
       "    .dataframe thead th {\n",
       "        text-align: right;\n",
       "    }\n",
       "</style>\n",
       "<table border=\"1\" class=\"dataframe\">\n",
       "  <thead>\n",
       "    <tr style=\"text-align: right;\">\n",
       "      <th></th>\n",
       "      <th>Paper Title</th>\n",
       "      <th>Authors</th>\n",
       "      <th>Published Date</th>\n",
       "      <th>Paper URL</th>\n",
       "    </tr>\n",
       "  </thead>\n",
       "  <tbody>\n",
       "    <tr>\n",
       "      <th>0</th>\n",
       "      <td>Reward is enough</td>\n",
       "      <td>Silver, David, Singh, Satinder, Precup, Doina,...</td>\n",
       "      <td>October 2021</td>\n",
       "      <td>https://www.sciencedirect.com/science/article/...</td>\n",
       "    </tr>\n",
       "    <tr>\n",
       "      <th>1</th>\n",
       "      <td>Making sense of raw input</td>\n",
       "      <td>Evans, Richard, Bošnjak, Matko and 5 more</td>\n",
       "      <td>October 2021</td>\n",
       "      <td>https://www.sciencedirect.com/science/article/...</td>\n",
       "    </tr>\n",
       "    <tr>\n",
       "      <th>2</th>\n",
       "      <td>Law and logic: A review from an argumentation ...</td>\n",
       "      <td>Prakken, Henry, Sartor, Giovanni</td>\n",
       "      <td>October 2015</td>\n",
       "      <td>https://www.sciencedirect.com/science/article/...</td>\n",
       "    </tr>\n",
       "    <tr>\n",
       "      <th>3</th>\n",
       "      <td>Creativity and artificial intelligence</td>\n",
       "      <td>Boden, Margaret A.</td>\n",
       "      <td>August 1998</td>\n",
       "      <td>https://www.sciencedirect.com/science/article/...</td>\n",
       "    </tr>\n",
       "    <tr>\n",
       "      <th>4</th>\n",
       "      <td>Artificial cognition for social human–robot in...</td>\n",
       "      <td>Lemaignan, Séverin, Warnier, Mathieu and 3 more</td>\n",
       "      <td>June 2017</td>\n",
       "      <td>https://www.sciencedirect.com/science/article/...</td>\n",
       "    </tr>\n",
       "    <tr>\n",
       "      <th>5</th>\n",
       "      <td>Explanation in artificial intelligence: Insigh...</td>\n",
       "      <td>Miller, Tim</td>\n",
       "      <td>February 2019</td>\n",
       "      <td>https://www.sciencedirect.com/science/article/...</td>\n",
       "    </tr>\n",
       "    <tr>\n",
       "      <th>6</th>\n",
       "      <td>Making sense of sensory input</td>\n",
       "      <td>Evans, Richard, Hernández-Orallo, José and 3 more</td>\n",
       "      <td>April 2021</td>\n",
       "      <td>https://www.sciencedirect.com/science/article/...</td>\n",
       "    </tr>\n",
       "    <tr>\n",
       "      <th>7</th>\n",
       "      <td>Conflict-based search for optimal multi-agent ...</td>\n",
       "      <td>Sharon, Guni, Stern, Roni, Felner, Ariel, Stur...</td>\n",
       "      <td>February 2015</td>\n",
       "      <td>https://www.sciencedirect.com/science/article/...</td>\n",
       "    </tr>\n",
       "    <tr>\n",
       "      <th>8</th>\n",
       "      <td>Between MDPs and semi-MDPs: A framework for te...</td>\n",
       "      <td>Sutton, Richard S., Precup, Doina, Singh, Sati...</td>\n",
       "      <td>August 1999</td>\n",
       "      <td>https://www.sciencedirect.com/science/article/...</td>\n",
       "    </tr>\n",
       "    <tr>\n",
       "      <th>9</th>\n",
       "      <td>The Hanabi challenge: A new frontier for AI re...</td>\n",
       "      <td>Bard, Nolan, Foerster, Jakob N. and 13 more</td>\n",
       "      <td>March 2020</td>\n",
       "      <td>https://www.sciencedirect.com/science/article/...</td>\n",
       "    </tr>\n",
       "    <tr>\n",
       "      <th>10</th>\n",
       "      <td>Evaluating XAI: A comparison of rule-based and...</td>\n",
       "      <td>van der Waa, Jasper, Nieuwburg, Elisabeth, Cre...</td>\n",
       "      <td>February 2021</td>\n",
       "      <td>https://www.sciencedirect.com/science/article/...</td>\n",
       "    </tr>\n",
       "    <tr>\n",
       "      <th>11</th>\n",
       "      <td>Argumentation in artificial intelligence</td>\n",
       "      <td>Bench-Capon, T.J.M., Dunne, Paul E.</td>\n",
       "      <td>October 2007</td>\n",
       "      <td>https://www.sciencedirect.com/science/article/...</td>\n",
       "    </tr>\n",
       "    <tr>\n",
       "      <th>12</th>\n",
       "      <td>Algorithms for computing strategies in two-pla...</td>\n",
       "      <td>Bošanský, Branislav, Lisý, Viliam and 3 more</td>\n",
       "      <td>August 2016</td>\n",
       "      <td>https://www.sciencedirect.com/science/article/...</td>\n",
       "    </tr>\n",
       "    <tr>\n",
       "      <th>13</th>\n",
       "      <td>Multiple object tracking: A literature review</td>\n",
       "      <td>Luo, Wenhan, Xing, Junliang and 4 more</td>\n",
       "      <td>April 2021</td>\n",
       "      <td>https://www.sciencedirect.com/science/article/...</td>\n",
       "    </tr>\n",
       "    <tr>\n",
       "      <th>14</th>\n",
       "      <td>Selection of relevant features and examples in...</td>\n",
       "      <td>Blum, Avrim L., Langley, Pat</td>\n",
       "      <td>December 1997</td>\n",
       "      <td>https://www.sciencedirect.com/science/article/...</td>\n",
       "    </tr>\n",
       "    <tr>\n",
       "      <th>15</th>\n",
       "      <td>A survey of inverse reinforcement learning: Ch...</td>\n",
       "      <td>Arora, Saurabh, Doshi, Prashant</td>\n",
       "      <td>August 2021</td>\n",
       "      <td>https://www.sciencedirect.com/science/article/...</td>\n",
       "    </tr>\n",
       "    <tr>\n",
       "      <th>16</th>\n",
       "      <td>Explaining individual predictions when feature...</td>\n",
       "      <td>Aas, Kjersti, Jullum, Martin, Løland, Anders</td>\n",
       "      <td>September 2021</td>\n",
       "      <td>https://www.sciencedirect.com/science/article/...</td>\n",
       "    </tr>\n",
       "    <tr>\n",
       "      <th>17</th>\n",
       "      <td>A review of possible effects of cognitive bias...</td>\n",
       "      <td>Kliegr, Tomáš, Bahník, Štěpán, Fürnkranz, Joha...</td>\n",
       "      <td>June 2021</td>\n",
       "      <td>https://www.sciencedirect.com/science/article/...</td>\n",
       "    </tr>\n",
       "    <tr>\n",
       "      <th>18</th>\n",
       "      <td>Integrating social power into the decision-mak...</td>\n",
       "      <td>Pereira, Gonçalo, Prada, Rui, Santos, Pedro A.</td>\n",
       "      <td>December 2016</td>\n",
       "      <td>https://www.sciencedirect.com/science/article/...</td>\n",
       "    </tr>\n",
       "    <tr>\n",
       "      <th>19</th>\n",
       "      <td>“That's (not) the output I expected!” On the r...</td>\n",
       "      <td>Riveiro, Maria, Thill, Serge</td>\n",
       "      <td>September 2021</td>\n",
       "      <td>https://www.sciencedirect.com/science/article/...</td>\n",
       "    </tr>\n",
       "    <tr>\n",
       "      <th>20</th>\n",
       "      <td>Explaining black-box classifiers using post-ho...</td>\n",
       "      <td>Kenny, Eoin M., Ford, Courtney, Quinn, Molly, ...</td>\n",
       "      <td>May 2021</td>\n",
       "      <td>https://www.sciencedirect.com/science/article/...</td>\n",
       "    </tr>\n",
       "    <tr>\n",
       "      <th>21</th>\n",
       "      <td>Algorithm runtime prediction: Methods &amp; evalua...</td>\n",
       "      <td>Hutter, Frank, Xu, Lin, Hoos, Holger H., Leyto...</td>\n",
       "      <td>January 2014</td>\n",
       "      <td>https://www.sciencedirect.com/science/article/...</td>\n",
       "    </tr>\n",
       "    <tr>\n",
       "      <th>22</th>\n",
       "      <td>Wrappers for feature subset selection</td>\n",
       "      <td>Kohavi, Ron, John, George H.</td>\n",
       "      <td>December 1997</td>\n",
       "      <td>https://www.sciencedirect.com/science/article/...</td>\n",
       "    </tr>\n",
       "    <tr>\n",
       "      <th>23</th>\n",
       "      <td>Commonsense visual sensemaking for autonomous ...</td>\n",
       "      <td>Suchan, Jakob, Bhatt, Mehul, Varadarajan, Srik...</td>\n",
       "      <td>October 2021</td>\n",
       "      <td>https://www.sciencedirect.com/science/article/...</td>\n",
       "    </tr>\n",
       "    <tr>\n",
       "      <th>24</th>\n",
       "      <td>Quantum computation, quantum theory and AI</td>\n",
       "      <td>Ying, Mingsheng</td>\n",
       "      <td>February 2010</td>\n",
       "      <td>https://www.sciencedirect.com/science/article/...</td>\n",
       "    </tr>\n",
       "  </tbody>\n",
       "</table>\n",
       "</div>"
      ],
      "text/plain": [
       "                                          Paper Title  \\\n",
       "0                                    Reward is enough   \n",
       "1                           Making sense of raw input   \n",
       "2   Law and logic: A review from an argumentation ...   \n",
       "3              Creativity and artificial intelligence   \n",
       "4   Artificial cognition for social human–robot in...   \n",
       "5   Explanation in artificial intelligence: Insigh...   \n",
       "6                       Making sense of sensory input   \n",
       "7   Conflict-based search for optimal multi-agent ...   \n",
       "8   Between MDPs and semi-MDPs: A framework for te...   \n",
       "9   The Hanabi challenge: A new frontier for AI re...   \n",
       "10  Evaluating XAI: A comparison of rule-based and...   \n",
       "11           Argumentation in artificial intelligence   \n",
       "12  Algorithms for computing strategies in two-pla...   \n",
       "13      Multiple object tracking: A literature review   \n",
       "14  Selection of relevant features and examples in...   \n",
       "15  A survey of inverse reinforcement learning: Ch...   \n",
       "16  Explaining individual predictions when feature...   \n",
       "17  A review of possible effects of cognitive bias...   \n",
       "18  Integrating social power into the decision-mak...   \n",
       "19  “That's (not) the output I expected!” On the r...   \n",
       "20  Explaining black-box classifiers using post-ho...   \n",
       "21  Algorithm runtime prediction: Methods & evalua...   \n",
       "22              Wrappers for feature subset selection   \n",
       "23  Commonsense visual sensemaking for autonomous ...   \n",
       "24         Quantum computation, quantum theory and AI   \n",
       "\n",
       "                                              Authors  Published Date  \\\n",
       "0   Silver, David, Singh, Satinder, Precup, Doina,...    October 2021   \n",
       "1           Evans, Richard, Bošnjak, Matko and 5 more    October 2021   \n",
       "2                   Prakken, Henry, Sartor, Giovanni     October 2015   \n",
       "3                                 Boden, Margaret A.      August 1998   \n",
       "4     Lemaignan, Séverin, Warnier, Mathieu and 3 more       June 2017   \n",
       "5                                        Miller, Tim    February 2019   \n",
       "6   Evans, Richard, Hernández-Orallo, José and 3 more      April 2021   \n",
       "7   Sharon, Guni, Stern, Roni, Felner, Ariel, Stur...   February 2015   \n",
       "8   Sutton, Richard S., Precup, Doina, Singh, Sati...     August 1999   \n",
       "9         Bard, Nolan, Foerster, Jakob N. and 13 more      March 2020   \n",
       "10  van der Waa, Jasper, Nieuwburg, Elisabeth, Cre...   February 2021   \n",
       "11               Bench-Capon, T.J.M., Dunne, Paul E.     October 2007   \n",
       "12       Bošanský, Branislav, Lisý, Viliam and 3 more     August 2016   \n",
       "13             Luo, Wenhan, Xing, Junliang and 4 more      April 2021   \n",
       "14                      Blum, Avrim L., Langley, Pat    December 1997   \n",
       "15                   Arora, Saurabh, Doshi, Prashant      August 2021   \n",
       "16      Aas, Kjersti, Jullum, Martin, Løland, Anders   September 2021   \n",
       "17  Kliegr, Tomáš, Bahník, Štěpán, Fürnkranz, Joha...       June 2021   \n",
       "18    Pereira, Gonçalo, Prada, Rui, Santos, Pedro A.    December 2016   \n",
       "19                      Riveiro, Maria, Thill, Serge   September 2021   \n",
       "20  Kenny, Eoin M., Ford, Courtney, Quinn, Molly, ...        May 2021   \n",
       "21  Hutter, Frank, Xu, Lin, Hoos, Holger H., Leyto...    January 2014   \n",
       "22                      Kohavi, Ron, John, George H.    December 1997   \n",
       "23  Suchan, Jakob, Bhatt, Mehul, Varadarajan, Srik...    October 2021   \n",
       "24                                   Ying, Mingsheng    February 2010   \n",
       "\n",
       "                                            Paper URL  \n",
       "0   https://www.sciencedirect.com/science/article/...  \n",
       "1   https://www.sciencedirect.com/science/article/...  \n",
       "2   https://www.sciencedirect.com/science/article/...  \n",
       "3   https://www.sciencedirect.com/science/article/...  \n",
       "4   https://www.sciencedirect.com/science/article/...  \n",
       "5   https://www.sciencedirect.com/science/article/...  \n",
       "6   https://www.sciencedirect.com/science/article/...  \n",
       "7   https://www.sciencedirect.com/science/article/...  \n",
       "8   https://www.sciencedirect.com/science/article/...  \n",
       "9   https://www.sciencedirect.com/science/article/...  \n",
       "10  https://www.sciencedirect.com/science/article/...  \n",
       "11  https://www.sciencedirect.com/science/article/...  \n",
       "12  https://www.sciencedirect.com/science/article/...  \n",
       "13  https://www.sciencedirect.com/science/article/...  \n",
       "14  https://www.sciencedirect.com/science/article/...  \n",
       "15  https://www.sciencedirect.com/science/article/...  \n",
       "16  https://www.sciencedirect.com/science/article/...  \n",
       "17  https://www.sciencedirect.com/science/article/...  \n",
       "18  https://www.sciencedirect.com/science/article/...  \n",
       "19  https://www.sciencedirect.com/science/article/...  \n",
       "20  https://www.sciencedirect.com/science/article/...  \n",
       "21  https://www.sciencedirect.com/science/article/...  \n",
       "22  https://www.sciencedirect.com/science/article/...  \n",
       "23  https://www.sciencedirect.com/science/article/...  \n",
       "24  https://www.sciencedirect.com/science/article/...  "
      ]
     },
     "execution_count": 89,
     "metadata": {},
     "output_type": "execute_result"
    }
   ],
   "source": [
    "# Creating the Required Data Frame\n",
    "df10 = pd.DataFrame({'Paper Title':Paper_Title,'Authors':Authors,'Published Date':Published_Date,'Paper URL':Paper_URL})\n",
    "df10"
   ]
  },
  {
   "cell_type": "code",
   "execution_count": null,
   "id": "fdd175bb-001e-4e0f-95ea-efe658e6609e",
   "metadata": {},
   "outputs": [],
   "source": []
  },
  {
   "cell_type": "markdown",
   "id": "bc4decff-ed23-4814-ada9-0ca03c03b70d",
   "metadata": {},
   "source": [
    "### 9) Write a python program to scrape mentioned details from dineout.co.in and make data frame\n",
    "1. Restaurant name\n",
    "2. Cuisine\n",
    "3. Location\n",
    "4. Ratings\n",
    "5. Image URL"
   ]
  },
  {
   "cell_type": "markdown",
   "id": "44b483a7-9737-4c44-9b40-814c6d3ae160",
   "metadata": {},
   "source": [
    "##### Solution"
   ]
  },
  {
   "cell_type": "code",
   "execution_count": 90,
   "id": "4b238f2f-43fe-4e5d-928c-7cd36a302fed",
   "metadata": {
    "tags": []
   },
   "outputs": [],
   "source": [
    "# Importing required libraries\n",
    "import requests\n",
    "from bs4 import BeautifulSoup\n",
    "import pandas as pd\n",
    "\n",
    "import warnings\n",
    "warnings.filterwarnings('ignore')\n"
   ]
  },
  {
   "cell_type": "code",
   "execution_count": 91,
   "id": "d552e92f-fd53-4df9-99f3-e5d6f60f2603",
   "metadata": {
    "tags": []
   },
   "outputs": [
    {
     "data": {
      "text/plain": [
       "<Response [200]>"
      ]
     },
     "execution_count": 91,
     "metadata": {},
     "output_type": "execute_result"
    }
   ],
   "source": [
    "# Sending a GET request \n",
    "page = requests.get('https://www.dineout.co.in/delhi-restaurants/buffet-special')\n",
    "page"
   ]
  },
  {
   "cell_type": "code",
   "execution_count": 92,
   "id": "7c3276fd-25d4-4f3d-bda8-3a73cebd16cb",
   "metadata": {
    "tags": []
   },
   "outputs": [],
   "source": [
    "# using BeautifulSoup \n",
    "soup = BeautifulSoup(page.content)"
   ]
  },
  {
   "cell_type": "code",
   "execution_count": 93,
   "id": "70695d61-d404-4264-8c35-96d513eaccf3",
   "metadata": {
    "tags": []
   },
   "outputs": [],
   "source": [
    "# Creating empty lists and storing Data\n",
    "Restaurant_name = []\n",
    "Cuisine = []\n",
    "Location=[]\n",
    "Ratings=[]\n",
    "Image_URL=[]\n",
    "\n",
    "for i in soup.find_all('a',class_='restnt-name ellipsis'):\n",
    "    Restaurant_name.append(i.text)\n",
    "for i in soup.find_all('span',class_='double-line-ellipsis'):\n",
    "    Cuisine.append(i.text.split('|')[1])\n",
    "for i in soup.find_all('div',class_='restnt-loc ellipsis'):\n",
    "    Location.append(i.text)    \n",
    "for i in soup.find_all('div',class_='restnt-rating rating-4'):\n",
    "    Ratings.append(i.text)\n",
    "for i in soup.find_all('img',class_='no-img'):\n",
    "    Image_URL.append(i.get('data-src'))    "
   ]
  },
  {
   "cell_type": "code",
   "execution_count": 94,
   "id": "784aa546-adac-464e-bc76-1e7923e9912e",
   "metadata": {
    "tags": []
   },
   "outputs": [
    {
     "name": "stdout",
     "output_type": "stream",
     "text": [
      "9 9 9 9 9\n"
     ]
    }
   ],
   "source": [
    "print(len(Restaurant_name),len(Cuisine),len(Location),len(Ratings),len(Image_URL))"
   ]
  },
  {
   "cell_type": "code",
   "execution_count": 95,
   "id": "9ee2f316-b356-4ea8-8f4a-4f370710bb96",
   "metadata": {
    "tags": []
   },
   "outputs": [
    {
     "data": {
      "text/html": [
       "<div>\n",
       "<style scoped>\n",
       "    .dataframe tbody tr th:only-of-type {\n",
       "        vertical-align: middle;\n",
       "    }\n",
       "\n",
       "    .dataframe tbody tr th {\n",
       "        vertical-align: top;\n",
       "    }\n",
       "\n",
       "    .dataframe thead th {\n",
       "        text-align: right;\n",
       "    }\n",
       "</style>\n",
       "<table border=\"1\" class=\"dataframe\">\n",
       "  <thead>\n",
       "    <tr style=\"text-align: right;\">\n",
       "      <th></th>\n",
       "      <th>Restaurant Name</th>\n",
       "      <th>Cuisine</th>\n",
       "      <th>Location</th>\n",
       "      <th>Rating</th>\n",
       "      <th>Image URL</th>\n",
       "    </tr>\n",
       "  </thead>\n",
       "  <tbody>\n",
       "    <tr>\n",
       "      <th>0</th>\n",
       "      <td>Castle Barbeque</td>\n",
       "      <td>Chinese, North Indian</td>\n",
       "      <td>Connaught Place, Central Delhi</td>\n",
       "      <td>4</td>\n",
       "      <td>https://im1.dineout.co.in/images/uploads/resta...</td>\n",
       "    </tr>\n",
       "    <tr>\n",
       "      <th>1</th>\n",
       "      <td>Jungle Jamboree</td>\n",
       "      <td>North Indian, Asian, Italian</td>\n",
       "      <td>3CS Mall,Lajpat Nagar - 3, South Delhi</td>\n",
       "      <td>3.9</td>\n",
       "      <td>https://im1.dineout.co.in/images/uploads/resta...</td>\n",
       "    </tr>\n",
       "    <tr>\n",
       "      <th>2</th>\n",
       "      <td>Cafe Knosh</td>\n",
       "      <td>Italian, Continental</td>\n",
       "      <td>The Leela Ambience Convention Hotel,Shahdara, ...</td>\n",
       "      <td>4.3</td>\n",
       "      <td>https://im1.dineout.co.in/images/uploads/resta...</td>\n",
       "    </tr>\n",
       "    <tr>\n",
       "      <th>3</th>\n",
       "      <td>Castle Barbeque</td>\n",
       "      <td>Chinese, North Indian</td>\n",
       "      <td>Pacific Mall,Tagore Garden, West Delhi</td>\n",
       "      <td>3.9</td>\n",
       "      <td>https://im1.dineout.co.in/images/uploads/resta...</td>\n",
       "    </tr>\n",
       "    <tr>\n",
       "      <th>4</th>\n",
       "      <td>The Barbeque Company</td>\n",
       "      <td>North Indian, Chinese</td>\n",
       "      <td>Gardens Galleria,Sector 38A, Noida</td>\n",
       "      <td>3.9</td>\n",
       "      <td>https://im1.dineout.co.in/images/uploads/resta...</td>\n",
       "    </tr>\n",
       "    <tr>\n",
       "      <th>5</th>\n",
       "      <td>India Grill</td>\n",
       "      <td>North Indian, Italian</td>\n",
       "      <td>Hilton Garden Inn,Saket, South Delhi</td>\n",
       "      <td>3.9</td>\n",
       "      <td>https://im1.dineout.co.in/images/uploads/resta...</td>\n",
       "    </tr>\n",
       "    <tr>\n",
       "      <th>6</th>\n",
       "      <td>Delhi Barbeque</td>\n",
       "      <td>North Indian</td>\n",
       "      <td>Taurus Sarovar Portico,Mahipalpur, South Delhi</td>\n",
       "      <td>3.7</td>\n",
       "      <td>https://im1.dineout.co.in/images/uploads/resta...</td>\n",
       "    </tr>\n",
       "    <tr>\n",
       "      <th>7</th>\n",
       "      <td>The Monarch - Bar Be Que Village</td>\n",
       "      <td>North Indian</td>\n",
       "      <td>Indirapuram Habitat Centre,Indirapuram, Ghaziabad</td>\n",
       "      <td>3.8</td>\n",
       "      <td>https://im1.dineout.co.in/images/uploads/resta...</td>\n",
       "    </tr>\n",
       "    <tr>\n",
       "      <th>8</th>\n",
       "      <td>Indian Grill Room</td>\n",
       "      <td>North Indian, Mughlai</td>\n",
       "      <td>Suncity Business Tower,Golf Course Road, Gurgaon</td>\n",
       "      <td>4.3</td>\n",
       "      <td>https://im1.dineout.co.in/images/uploads/resta...</td>\n",
       "    </tr>\n",
       "  </tbody>\n",
       "</table>\n",
       "</div>"
      ],
      "text/plain": [
       "                    Restaurant Name                        Cuisine  \\\n",
       "0                   Castle Barbeque          Chinese, North Indian   \n",
       "1                   Jungle Jamboree   North Indian, Asian, Italian   \n",
       "2                        Cafe Knosh           Italian, Continental   \n",
       "3                   Castle Barbeque          Chinese, North Indian   \n",
       "4              The Barbeque Company          North Indian, Chinese   \n",
       "5                       India Grill          North Indian, Italian   \n",
       "6                    Delhi Barbeque                   North Indian   \n",
       "7  The Monarch - Bar Be Que Village                   North Indian   \n",
       "8                 Indian Grill Room          North Indian, Mughlai   \n",
       "\n",
       "                                            Location Rating  \\\n",
       "0                     Connaught Place, Central Delhi      4   \n",
       "1             3CS Mall,Lajpat Nagar - 3, South Delhi    3.9   \n",
       "2  The Leela Ambience Convention Hotel,Shahdara, ...    4.3   \n",
       "3             Pacific Mall,Tagore Garden, West Delhi    3.9   \n",
       "4                 Gardens Galleria,Sector 38A, Noida    3.9   \n",
       "5               Hilton Garden Inn,Saket, South Delhi    3.9   \n",
       "6     Taurus Sarovar Portico,Mahipalpur, South Delhi    3.7   \n",
       "7  Indirapuram Habitat Centre,Indirapuram, Ghaziabad    3.8   \n",
       "8   Suncity Business Tower,Golf Course Road, Gurgaon    4.3   \n",
       "\n",
       "                                           Image URL  \n",
       "0  https://im1.dineout.co.in/images/uploads/resta...  \n",
       "1  https://im1.dineout.co.in/images/uploads/resta...  \n",
       "2  https://im1.dineout.co.in/images/uploads/resta...  \n",
       "3  https://im1.dineout.co.in/images/uploads/resta...  \n",
       "4  https://im1.dineout.co.in/images/uploads/resta...  \n",
       "5  https://im1.dineout.co.in/images/uploads/resta...  \n",
       "6  https://im1.dineout.co.in/images/uploads/resta...  \n",
       "7  https://im1.dineout.co.in/images/uploads/resta...  \n",
       "8  https://im1.dineout.co.in/images/uploads/resta...  "
      ]
     },
     "execution_count": 95,
     "metadata": {},
     "output_type": "execute_result"
    }
   ],
   "source": [
    "# Creating the Required Data Frame\n",
    "df10 = pd.DataFrame({'Restaurant Name':Restaurant_name,'Cuisine':Cuisine,'Location':Location,'Rating':Ratings,'Image URL':Image_URL})\n",
    "df10"
   ]
  },
  {
   "cell_type": "code",
   "execution_count": null,
   "id": "0b973f71-46ca-4845-be21-f6e26e2cd0ca",
   "metadata": {},
   "outputs": [],
   "source": []
  }
 ],
 "metadata": {
  "kernelspec": {
   "display_name": "Python 3 (ipykernel)",
   "language": "python",
   "name": "python3"
  },
  "language_info": {
   "codemirror_mode": {
    "name": "ipython",
    "version": 3
   },
   "file_extension": ".py",
   "mimetype": "text/x-python",
   "name": "python",
   "nbconvert_exporter": "python",
   "pygments_lexer": "ipython3",
   "version": "3.9.12"
  },
  "widgets": {
   "application/vnd.jupyter.widget-state+json": {
    "state": {},
    "version_major": 2,
    "version_minor": 0
   }
  }
 },
 "nbformat": 4,
 "nbformat_minor": 5
}
