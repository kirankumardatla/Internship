{
 "cells": [
  {
   "cell_type": "code",
   "execution_count": 18,
   "id": "3005af6f-3cb8-43c9-86c9-c1147e2ec2a3",
   "metadata": {
    "tags": []
   },
   "outputs": [],
   "source": [
    "#Defining a Function\n",
    "def prime_or_composit(n):\n",
    "    if n <= 0 :\n",
    "        inp=int(input('Please enter only Natural numbers'))\n",
    "        prime_or_composit(inp)\n",
    "    elif n == 1:\n",
    "        print(\"1 is neighter prime nor composit\")\n",
    "    elif n == 2:\n",
    "        print(\"2 is is a prime number\")\n",
    "    elif n > 2:    \n",
    "        for i in range(2,n+1):\n",
    "            if n%i == 0 :\n",
    "                if i == n:\n",
    "                    print(f\"{n} is a Prime number\")\n",
    "                    break\n",
    "                elif i != n :    \n",
    "                    print(f\"{n} is a Composit number\")\n",
    "                    break"
   ]
  },
  {
   "cell_type": "code",
   "execution_count": 19,
   "id": "15554376-946a-418d-b5aa-4f6f82c9d410",
   "metadata": {
    "tags": []
   },
   "outputs": [
    {
     "name": "stdin",
     "output_type": "stream",
     "text": [
      "Please enter a number for prime number test 13\n"
     ]
    },
    {
     "name": "stdout",
     "output_type": "stream",
     "text": [
      "13 is a Prime number\n"
     ]
    }
   ],
   "source": [
    "#Getting User Input\n",
    "user_input = int(input('Please enter a number for prime number test'))\n",
    "prime_or_composit(user_input)"
   ]
  },
  {
   "cell_type": "code",
   "execution_count": null,
   "id": "8949089e-8f55-4c03-8268-3fb24eec5762",
   "metadata": {},
   "outputs": [],
   "source": []
  }
 ],
 "metadata": {
  "kernelspec": {
   "display_name": "Python 3 (ipykernel)",
   "language": "python",
   "name": "python3"
  },
  "language_info": {
   "codemirror_mode": {
    "name": "ipython",
    "version": 3
   },
   "file_extension": ".py",
   "mimetype": "text/x-python",
   "name": "python",
   "nbconvert_exporter": "python",
   "pygments_lexer": "ipython3",
   "version": "3.9.12"
  },
  "widgets": {
   "application/vnd.jupyter.widget-state+json": {
    "state": {},
    "version_major": 2,
    "version_minor": 0
   }
  }
 },
 "nbformat": 4,
 "nbformat_minor": 5
}
