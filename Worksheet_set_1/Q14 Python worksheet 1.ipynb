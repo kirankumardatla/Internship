{
 "cells": [
  {
   "cell_type": "code",
   "execution_count": 4,
   "id": "54ea46e9-8f9b-454b-9932-1019c8df50dd",
   "metadata": {
    "tags": []
   },
   "outputs": [],
   "source": [
    "# Getting User Input\n",
    "side1=int(input('Enter the First Side:'))\n",
    "side2=int(input('Enter the Second Side:'))"
   ]
  },
  {
   "cell_type": "code",
   "execution_count": 4,
   "id": "a08d88d1-4960-41ad-a4e1-1c152552d9b5",
   "metadata": {
    "tags": []
   },
   "outputs": [
    {
     "name": "stdin",
     "output_type": "stream",
     "text": [
      "Enter the First Side: 3\n",
      "Enter the Second Side: 4\n"
     ]
    },
    {
     "name": "stdout",
     "output_type": "stream",
     "text": [
      "The Third Side is 5.0\n"
     ]
    }
   ],
   "source": [
    "#Generating The Third Side\n",
    "side3 = (side1**2 + side2**2)**(1/2)\n",
    "print(f\"The Third Side is {side3}\")"
   ]
  },
  {
   "cell_type": "code",
   "execution_count": null,
   "id": "a7889326-c357-4ab5-86a9-4e20c37cb987",
   "metadata": {},
   "outputs": [],
   "source": []
  }
 ],
 "metadata": {
  "kernelspec": {
   "display_name": "Python 3 (ipykernel)",
   "language": "python",
   "name": "python3"
  },
  "language_info": {
   "codemirror_mode": {
    "name": "ipython",
    "version": 3
   },
   "file_extension": ".py",
   "mimetype": "text/x-python",
   "name": "python",
   "nbconvert_exporter": "python",
   "pygments_lexer": "ipython3",
   "version": "3.9.12"
  },
  "widgets": {
   "application/vnd.jupyter.widget-state+json": {
    "state": {},
    "version_major": 2,
    "version_minor": 0
   }
  }
 },
 "nbformat": 4,
 "nbformat_minor": 5
}
