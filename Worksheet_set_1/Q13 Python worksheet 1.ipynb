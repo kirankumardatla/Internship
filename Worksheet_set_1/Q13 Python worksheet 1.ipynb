{
 "cells": [
  {
   "cell_type": "code",
   "execution_count": 11,
   "id": "4c9abb37-0bbd-425a-81ed-dd7ed3b5170c",
   "metadata": {
    "tags": []
   },
   "outputs": [],
   "source": [
    "def is_palindrome(x):\n",
    "    # Remove spaces and punctuation marks from the string\n",
    "    \n",
    "    a = ''.join(e for e in x if e.isalnum())\n",
    "\n",
    "    a = a.lower()\n",
    "    if a == a[::-1]:\n",
    "        print(f'\"{x}\" is a palindrome')\n",
    "    else:\n",
    "        print(f'\"{x}\" is not a palindrome')    "
   ]
  },
  {
   "cell_type": "code",
   "execution_count": 12,
   "id": "dff9be39-a50b-43cb-b747-1e37742eaa70",
   "metadata": {
    "tags": []
   },
   "outputs": [
    {
     "name": "stdin",
     "output_type": "stream",
     "text": [
      "Enter a string:  A man, a plan, a canal, Panama!\n"
     ]
    },
    {
     "name": "stdout",
     "output_type": "stream",
     "text": [
      "\"A man, a plan, a canal, Panama!\" is a palindrome\n"
     ]
    }
   ],
   "source": [
    "string = input(\"Enter a string: \")\n",
    "is_palindrome(string)"
   ]
  }
 ],
 "metadata": {
  "kernelspec": {
   "display_name": "Python 3 (ipykernel)",
   "language": "python",
   "name": "python3"
  },
  "language_info": {
   "codemirror_mode": {
    "name": "ipython",
    "version": 3
   },
   "file_extension": ".py",
   "mimetype": "text/x-python",
   "name": "python",
   "nbconvert_exporter": "python",
   "pygments_lexer": "ipython3",
   "version": "3.9.12"
  },
  "widgets": {
   "application/vnd.jupyter.widget-state+json": {
    "state": {},
    "version_major": 2,
    "version_minor": 0
   }
  }
 },
 "nbformat": 4,
 "nbformat_minor": 5
}
