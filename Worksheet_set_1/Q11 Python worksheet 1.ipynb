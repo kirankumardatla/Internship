{
 "cells": [
  {
   "cell_type": "code",
   "execution_count": 27,
   "id": "250de2d6-83d6-4db7-871e-dfc920003d4c",
   "metadata": {
    "tags": []
   },
   "outputs": [
    {
     "name": "stdin",
     "output_type": "stream",
     "text": [
      "Please Enter a number for getting its Factorial 6\n"
     ]
    },
    {
     "name": "stdout",
     "output_type": "stream",
     "text": [
      "The factorial of 6 is 720\n"
     ]
    }
   ],
   "source": [
    "# Getting User Input\n",
    "input_num=int(input('Please Enter a number for getting its Factorial'))\n",
    "num = input_num\n",
    "#Calculating Factorial \n",
    "fact = num\n",
    "\n",
    "if num < 0 :\n",
    "    print('We cannot generate factorial for Negitive numbers')\n",
    "elif num == 0:\n",
    "    print('Factorial of 0 is 1')\n",
    "else:    \n",
    "    while num > 1:\n",
    "        num -= 1\n",
    "        fact = num*fact\n",
    "    print(f'The factorial of {input_num} is {fact}')    "
   ]
  }
 ],
 "metadata": {
  "kernelspec": {
   "display_name": "Python 3 (ipykernel)",
   "language": "python",
   "name": "python3"
  },
  "language_info": {
   "codemirror_mode": {
    "name": "ipython",
    "version": 3
   },
   "file_extension": ".py",
   "mimetype": "text/x-python",
   "name": "python",
   "nbconvert_exporter": "python",
   "pygments_lexer": "ipython3",
   "version": "3.9.12"
  },
  "widgets": {
   "application/vnd.jupyter.widget-state+json": {
    "state": {},
    "version_major": 2,
    "version_minor": 0
   }
  }
 },
 "nbformat": 4,
 "nbformat_minor": 5
}
