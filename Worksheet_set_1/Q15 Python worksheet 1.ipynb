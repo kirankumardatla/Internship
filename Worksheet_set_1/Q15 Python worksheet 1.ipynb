{
 "cells": [
  {
   "cell_type": "code",
   "execution_count": 2,
   "id": "fd443686-6cc1-48f6-8c1b-d2c62883b1b6",
   "metadata": {
    "tags": []
   },
   "outputs": [
    {
     "name": "stdin",
     "output_type": "stream",
     "text": [
      "Enter a string:  lllll     iiiii    lllll\n"
     ]
    }
   ],
   "source": [
    "# Getting User Input\n",
    "string = input(\"Enter a string: \")"
   ]
  },
  {
   "cell_type": "code",
   "execution_count": 3,
   "id": "96972a0d-871d-4004-b11b-9460bec98a72",
   "metadata": {
    "tags": []
   },
   "outputs": [],
   "source": [
    "# Create a dictionary to store the frequency of each character\n",
    "freq = {}\n",
    "\n",
    "for char in string:\n",
    "    if char in freq:\n",
    "        freq[char] += 1\n",
    "    else:\n",
    "        freq[char] = 1"
   ]
  },
  {
   "cell_type": "code",
   "execution_count": 4,
   "id": "89649a19-455a-4f15-8414-f971b81a9768",
   "metadata": {
    "tags": []
   },
   "outputs": [
    {
     "name": "stdout",
     "output_type": "stream",
     "text": [
      "l 10\n",
      "  9\n",
      "i 5\n"
     ]
    }
   ],
   "source": [
    "# Print the frequency of each character\n",
    "for char in freq:\n",
    "    print(char, freq[char])"
   ]
  },
  {
   "cell_type": "code",
   "execution_count": null,
   "id": "978bf40b-22f2-4e8d-860b-d75e53019f84",
   "metadata": {},
   "outputs": [],
   "source": []
  }
 ],
 "metadata": {
  "kernelspec": {
   "display_name": "Python 3 (ipykernel)",
   "language": "python",
   "name": "python3"
  },
  "language_info": {
   "codemirror_mode": {
    "name": "ipython",
    "version": 3
   },
   "file_extension": ".py",
   "mimetype": "text/x-python",
   "name": "python",
   "nbconvert_exporter": "python",
   "pygments_lexer": "ipython3",
   "version": "3.9.12"
  },
  "widgets": {
   "application/vnd.jupyter.widget-state+json": {
    "state": {},
    "version_major": 2,
    "version_minor": 0
   }
  }
 },
 "nbformat": 4,
 "nbformat_minor": 5
}
